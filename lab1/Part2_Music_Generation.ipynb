{
  "cells": [
    {
      "cell_type": "markdown",
      "metadata": {
        "id": "uoJsVjtCMunI"
      },
      "source": [
        "<table align=\"center\">\n",
        "  <td align=\"center\"><a target=\"_blank\" href=\"http://introtodeeplearning.com\">\n",
        "        <img src=\"https://i.ibb.co/Jr88sn2/mit.png\" style=\"padding-bottom:5px;\" />\n",
        "      Visit MIT Deep Learning</a></td>\n",
        "  <td align=\"center\"><a target=\"_blank\" href=\"https://colab.research.google.com/github/aamini/introtodeeplearning/blob/master/lab1/Part2_Music_Generation.ipynb\">\n",
        "        <img src=\"https://i.ibb.co/2P3SLwK/colab.png\"  style=\"padding-bottom:5px;\" />Run in Google Colab</a></td>\n",
        "  <td align=\"center\"><a target=\"_blank\" href=\"https://github.com/aamini/introtodeeplearning/blob/master/lab1/Part2_Music_Generation.ipynb\">\n",
        "        <img src=\"https://i.ibb.co/xfJbPmL/github.png\"  height=\"70px\" style=\"padding-bottom:5px;\"  />View Source on GitHub</a></td>\n",
        "</table>\n",
        "\n",
        "# Copyright Information"
      ]
    },
    {
      "cell_type": "code",
      "execution_count": null,
      "metadata": {
        "id": "bUik05YqMyCH"
      },
      "outputs": [],
      "source": [
        "# Copyright 2024 MIT Introduction to Deep Learning. All Rights Reserved.\n",
        "#\n",
        "# Licensed under the MIT License. You may not use this file except in compliance\n",
        "# with the License. Use and/or modification of this code outside of MIT Introduction\n",
        "# to Deep Learning must reference:\n",
        "#\n",
        "# © MIT Introduction to Deep Learning\n",
        "# http://introtodeeplearning.com\n",
        "#"
      ]
    },
    {
      "cell_type": "markdown",
      "metadata": {
        "id": "O-97SDET3JG-"
      },
      "source": [
        "# Lab 1: Intro to TensorFlow and Music Generation with RNNs\n",
        "\n",
        "# Part 2: Music Generation with RNNs\n",
        "\n",
        "In this portion of the lab, we will explore building a Recurrent Neural Network (RNN) for music generation. We will train a model to learn the patterns in raw sheet music in [ABC notation](https://en.wikipedia.org/wiki/ABC_notation) and then use this model to generate new music."
      ]
    },
    {
      "cell_type": "markdown",
      "metadata": {
        "id": "rsvlBQYCrE4I"
      },
      "source": [
        "## 2.1 Dependencies\n",
        "First, let's download the course repository, install dependencies, and import the relevant packages we'll need for this lab.\n",
        "\n",
        "We will be using [Comet ML](https://www.comet.com/docs/v2/) to track our model development and training runs. First, sign up for a Comet account [at this link](https://www.comet.com/signup?utm_source=mit_dl&utm_medium=partner&utm_content=github\n",
        ") (you can use your Google or Github account). This will generate a personal API Key, which you can find either in the first 'Get Started with Comet' page, under your account settings, or by pressing the '?' in the top right corner and then 'Quickstart Guide'. Enter this API key as the global variable `COMET_API_KEY`."
      ]
    },
    {
      "cell_type": "code",
      "execution_count": 1,
      "metadata": {
        "id": "riVZCVK65QTH"
      },
      "outputs": [
        {
          "name": "stdout",
          "output_type": "stream",
          "text": [
            "Note: you may need to restart the kernel to use updated packages.\n",
            "\n",
            "\u001b[1m[\u001b[0m\u001b[34;49mnotice\u001b[0m\u001b[1;39;49m]\u001b[0m\u001b[39;49m A new release of pip is available: \u001b[0m\u001b[31;49m23.3.1\u001b[0m\u001b[39;49m -> \u001b[0m\u001b[32;49m23.3.2\u001b[0m\n",
            "\u001b[1m[\u001b[0m\u001b[34;49mnotice\u001b[0m\u001b[1;39;49m]\u001b[0m\u001b[39;49m To update, run: \u001b[0m\u001b[32;49mpip install --upgrade pip\u001b[0m\n",
            "Note: you may need to restart the kernel to use updated packages.\n"
          ]
        },
        {
          "ename": "AssertionError",
          "evalue": "",
          "output_type": "error",
          "traceback": [
            "\u001b[0;31m---------------------------------------------------------------------------\u001b[0m",
            "\u001b[0;31mAssertionError\u001b[0m                            Traceback (most recent call last)",
            "Cell \u001b[0;32mIn[1], line 26\u001b[0m\n\u001b[1;32m     21\u001b[0m get_ipython()\u001b[38;5;241m.\u001b[39msystem(\u001b[38;5;124m'\u001b[39m\u001b[38;5;124mapt-get install abcmidi timidity > /dev/null 2>&1\u001b[39m\u001b[38;5;124m'\u001b[39m)\n\u001b[1;32m     24\u001b[0m \u001b[38;5;66;03m# Check that we are using a GPU, if not switch runtimes\u001b[39;00m\n\u001b[1;32m     25\u001b[0m \u001b[38;5;66;03m#   using Runtime > Change Runtime Type > GPU\u001b[39;00m\n\u001b[0;32m---> 26\u001b[0m \u001b[38;5;28;01massert\u001b[39;00m \u001b[38;5;28mlen\u001b[39m(tf\u001b[38;5;241m.\u001b[39mconfig\u001b[38;5;241m.\u001b[39mlist_physical_devices(\u001b[38;5;124m'\u001b[39m\u001b[38;5;124mGPU\u001b[39m\u001b[38;5;124m'\u001b[39m)) \u001b[38;5;241m>\u001b[39m \u001b[38;5;241m0\u001b[39m\n\u001b[1;32m     27\u001b[0m \u001b[38;5;28;01massert\u001b[39;00m COMET_API_KEY \u001b[38;5;241m!=\u001b[39m \u001b[38;5;124m\"\u001b[39m\u001b[38;5;124m\"\u001b[39m, \u001b[38;5;124m\"\u001b[39m\u001b[38;5;124mPlease insert your Comet API Key\u001b[39m\u001b[38;5;124m\"\u001b[39m\n",
            "\u001b[0;31mAssertionError\u001b[0m: "
          ]
        }
      ],
      "source": [
        "%pip install comet_ml > /dev/null 2>&1\n",
        "import comet_ml\n",
        "# TODO: ENTER YOUR API KEY HERE!! instructions above\n",
        "COMET_API_KEY = \"VDWuZ7znSGHlvVsXEJkilsKxO\"\n",
        "\n",
        "# Import Tensorflow 2.0\n",
        "import tensorflow as tf\n",
        "\n",
        "# Download and import the MIT Introduction to Deep Learning package\n",
        "%pip install mitdeeplearning --quiet\n",
        "import mitdeeplearning as mdl\n",
        "\n",
        "# Import all remaining packages\n",
        "import numpy as np\n",
        "import os\n",
        "import time\n",
        "import functools\n",
        "from IPython import display as ipythondisplay\n",
        "from tqdm import tqdm\n",
        "from scipy.io.wavfile import write\n",
        "!apt-get install abcmidi timidity > /dev/null 2>&1\n",
        "\n",
        "\n",
        "# Check that we are using a GPU, if not switch runtimes\n",
        "#   using Runtime > Change Runtime Type > GPU\n",
        "assert len(tf.config.list_physical_devices('GPU')) > 0\n",
        "assert COMET_API_KEY != \"\", \"Please insert your Comet API Key\""
      ]
    },
    {
      "cell_type": "markdown",
      "metadata": {
        "id": "_ajvp0No4qDm"
      },
      "source": [
        "## 2.2 Dataset\n",
        "\n",
        "![Let's Dance!](http://33.media.tumblr.com/3d223954ad0a77f4e98a7b87136aa395/tumblr_nlct5lFVbF1qhu7oio1_500.gif)\n",
        "\n",
        "We've gathered a dataset of thousands of Irish folk songs, represented in the ABC notation. Let's download the dataset and inspect it:\n"
      ]
    },
    {
      "cell_type": "code",
      "execution_count": 2,
      "metadata": {
        "id": "P7dFnP5q3Jve"
      },
      "outputs": [
        {
          "name": "stdout",
          "output_type": "stream",
          "text": [
            "Found 817 songs in text\n",
            "\n",
            "Example song: \n",
            "X:1\n",
            "T:Alexander's\n",
            "Z: id:dc-hornpipe-1\n",
            "M:C|\n",
            "L:1/8\n",
            "K:D Major\n",
            "(3ABc|dAFA DFAd|fdcd FAdf|gfge fefd|(3efe (3dcB A2 (3ABc|!\n",
            "dAFA DFAd|fdcd FAdf|gfge fefd|(3efe dc d2:|!\n",
            "AG|FAdA FAdA|GBdB GBdB|Acec Acec|dfaf gecA|!\n",
            "FAdA FAdA|GBdB GBdB|Aceg fefd|(3efe dc d2:|!\n"
          ]
        }
      ],
      "source": [
        "# Download the dataset\n",
        "songs = mdl.lab1.load_training_data()\n",
        "\n",
        "# Print one of the songs to inspect it in greater detail!\n",
        "example_song = songs[0]\n",
        "print(\"\\nExample song: \")\n",
        "print(example_song)"
      ]
    },
    {
      "cell_type": "markdown",
      "metadata": {
        "id": "hKF3EHJlCAj2"
      },
      "source": [
        "We can easily convert a song in ABC notation to an audio waveform and play it back. Be patient for this conversion to run, it can take some time."
      ]
    },
    {
      "cell_type": "code",
      "execution_count": 3,
      "metadata": {
        "id": "11toYzhEEKDz"
      },
      "outputs": [
        {
          "name": "stderr",
          "output_type": "stream",
          "text": [
            "/Users/lucas/miniconda3/lib/python3.11/site-packages/mitdeeplearning/bin/abc2wav: line 5: abc2midi: command not found\n",
            "/Users/lucas/miniconda3/lib/python3.11/site-packages/mitdeeplearning/bin/abc2wav: line 6: timidity: command not found\n",
            "rm: tmp.mid: No such file or directory\n"
          ]
        }
      ],
      "source": [
        "# Convert the ABC notation to audio file and listen to it\n",
        "mdl.lab1.play_song(example_song)"
      ]
    },
    {
      "cell_type": "markdown",
      "metadata": {
        "id": "7vH24yyquwKQ"
      },
      "source": [
        "One important thing to think about is that this notation of music does not simply contain information on the notes being played, but additionally there is meta information such as the song title, key, and tempo. How does the number of different characters that are present in the text file impact the complexity of the learning problem? This will become important soon, when we generate a numerical representation for the text data."
      ]
    },
    {
      "cell_type": "code",
      "execution_count": 85,
      "metadata": {
        "id": "IlCgQBRVymwR"
      },
      "outputs": [
        {
          "name": "stdout",
          "output_type": "stream",
          "text": [
            "There are 83 unique characters in the dataset\n"
          ]
        }
      ],
      "source": [
        "# Join our list of song strings into a single string containing all songs\n",
        "songs_joined = \"\\n\\n\".join(songs)\n",
        "\n",
        "# Find all unique characters in the joined string\n",
        "vocab = sorted(set(songs_joined))\n",
        "print(\"There are\", len(vocab), \"unique characters in the dataset\")"
      ]
    },
    {
      "cell_type": "markdown",
      "metadata": {
        "id": "rNnrKn_lL-IJ"
      },
      "source": [
        "## 2.3 Process the dataset for the learning task\n",
        "\n",
        "Let's take a step back and consider our prediction task. We're trying to train a RNN model to learn patterns in ABC music, and then use this model to generate (i.e., predict) a new piece of music based on this learned information.\n",
        "\n",
        "Breaking this down, what we're really asking the model is: given a character, or a sequence of characters, what is the most probable next character? We'll train the model to perform this task.\n",
        "\n",
        "To achieve this, we will input a sequence of characters to the model, and train the model to predict the output, that is, the following character at each time step. RNNs maintain an internal state that depends on previously seen elements, so information about all characters seen up until a given moment will be taken into account in generating the prediction."
      ]
    },
    {
      "cell_type": "markdown",
      "metadata": {
        "id": "LFjSVAlWzf-N"
      },
      "source": [
        "### Vectorize the text\n",
        "\n",
        "Before we begin training our RNN model, we'll need to create a numerical representation of our text-based dataset. To do this, we'll generate two lookup tables: one that maps characters to numbers, and a second that maps numbers back to characters. Recall that we just identified the unique characters present in the text."
      ]
    },
    {
      "cell_type": "code",
      "execution_count": 86,
      "metadata": {
        "id": "IalZLbvOzf-F"
      },
      "outputs": [],
      "source": [
        "### Define numerical representation of text ###\n",
        "\n",
        "# Create a mapping from character to unique index.\n",
        "# For example, to get the index of the character \"d\",\n",
        "#   we can evaluate `char2idx[\"d\"]`.\n",
        "char2idx = {u:i for i, u in enumerate(vocab)}\n",
        "\n",
        "# Create a mapping from indices to characters. This is\n",
        "#   the inverse of char2idx and allows us to convert back\n",
        "#   from unique index to the character in our vocabulary.\n",
        "idx2char = np.array(vocab)"
      ]
    },
    {
      "cell_type": "markdown",
      "metadata": {
        "id": "tZfqhkYCymwX"
      },
      "source": [
        "This gives us an integer representation for each character. Observe that the unique characters (i.e., our vocabulary) in the text are mapped as indices from 0 to `len(unique)`. Let's take a peek at this numerical representation of our dataset:"
      ]
    },
    {
      "cell_type": "code",
      "execution_count": 87,
      "metadata": {
        "id": "FYyNlCNXymwY"
      },
      "outputs": [
        {
          "name": "stdout",
          "output_type": "stream",
          "text": [
            "{\n",
            "  '\\n':   0,\n",
            "  ' ' :   1,\n",
            "  '!' :   2,\n",
            "  '\"' :   3,\n",
            "  '#' :   4,\n",
            "  \"'\" :   5,\n",
            "  '(' :   6,\n",
            "  ')' :   7,\n",
            "  ',' :   8,\n",
            "  '-' :   9,\n",
            "  '.' :  10,\n",
            "  '/' :  11,\n",
            "  '0' :  12,\n",
            "  '1' :  13,\n",
            "  '2' :  14,\n",
            "  '3' :  15,\n",
            "  '4' :  16,\n",
            "  '5' :  17,\n",
            "  '6' :  18,\n",
            "  '7' :  19,\n",
            "  ...\n",
            "}\n"
          ]
        }
      ],
      "source": [
        "print('{')\n",
        "for char,_ in zip(char2idx, range(20)):\n",
        "    print('  {:4s}: {:3d},'.format(repr(char), char2idx[char]))\n",
        "print('  ...\\n}')"
      ]
    },
    {
      "cell_type": "code",
      "execution_count": 88,
      "metadata": {
        "id": "g-LnKyu4dczc"
      },
      "outputs": [],
      "source": [
        "### Vectorize the songs string ###\n",
        "\n",
        "'''TODO: Write a function to convert the all songs string to a vectorized\n",
        "    (i.e., numeric) representation. Use the appropriate mapping\n",
        "    above to convert from vocab characters to the corresponding indices.\n",
        "\n",
        "  NOTE: the output of the `vectorize_string` function\n",
        "  should be a np.array with `N` elements, where `N` is\n",
        "  the number of characters in the input string\n",
        "'''\n",
        "def vectorize_string(string):\n",
        "  length = len(string)\n",
        "  vectorized_array = np.zeros(length, dtype=int)\n",
        "  for i in range(length):\n",
        "    vectorized_array[i]=char2idx[string[i]]\n",
        "  return vectorized_array\n",
        "\n",
        "vectorized_songs = vectorize_string(songs_joined)"
      ]
    },
    {
      "cell_type": "markdown",
      "metadata": {
        "id": "IqxpSuZ1w-ub"
      },
      "source": [
        "We can also look at how the first part of the text is mapped to an integer representation:"
      ]
    },
    {
      "cell_type": "code",
      "execution_count": 89,
      "metadata": {
        "id": "l1VKcQHcymwb"
      },
      "outputs": [
        {
          "name": "stdout",
          "output_type": "stream",
          "text": [
            "'X:1\\nT:Alex' ---- characters mapped to int ----> [49 22 13  0 45 22 26 67 60 79]\n"
          ]
        }
      ],
      "source": [
        "print ('{} ---- characters mapped to int ----> {}'.format(repr(songs_joined[:10]), vectorized_songs[:10]))\n",
        "# check that vectorized_songs is a numpy array\n",
        "assert isinstance(vectorized_songs, np.ndarray), \"returned result should be a numpy array\""
      ]
    },
    {
      "cell_type": "markdown",
      "metadata": {
        "id": "hgsVvVxnymwf"
      },
      "source": [
        "### Create training examples and targets\n",
        "\n",
        "Our next step is to actually divide the text into example sequences that we'll use during training. Each input sequence that we feed into our RNN will contain `seq_length` characters from the text. We'll also need to define a target sequence for each input sequence, which will be used in training the RNN to predict the next character. For each input, the corresponding target will contain the same length of text, except shifted one character to the right.\n",
        "\n",
        "To do this, we'll break the text into chunks of `seq_length+1`. Suppose `seq_length` is 4 and our text is \"Hello\". Then, our input sequence is \"Hell\" and the target sequence is \"ello\".\n",
        "\n",
        "The batch method will then let us convert this stream of character indices to sequences of the desired size."
      ]
    },
    {
      "cell_type": "code",
      "execution_count": 90,
      "metadata": {
        "id": "LF-N8F7BoDRi"
      },
      "outputs": [
        {
          "name": "stdout",
          "output_type": "stream",
          "text": [
            "[array([82, 26, 14, 56, 61,  1, 62, 61, 60, 59]), array([14,  1, 59, 32, 27, 59, 82, 58, 26, 26])]\n",
            "[array([26, 14, 56, 61,  1, 62, 61, 60, 59, 82]), array([ 1, 59, 32, 27, 59, 82, 58, 26, 26, 14])]\n",
            "[PASS] test_batch_func_types\n",
            "[array([74,  1, 75, 63, 60,  1, 27, 64, 62,  1]), array([82, 32, 27, 59,  1, 62, 61, 62, 82, 27])]\n",
            "[array([ 1, 75, 63, 60,  1, 27, 64, 62,  1, 38]), array([32, 27, 59,  1, 62, 61, 62, 82, 27, 32])]\n",
            "[PASS] test_batch_func_shapes\n",
            "[array([82, 26, 15,  1, 59, 26, 31, 82, 32, 31]), array([59, 58,  9, 65, 64, 62,  9, 15, 15,  0])]\n",
            "[array([26, 15,  1, 59, 26, 31, 82, 32, 31, 32]), array([58,  9, 65, 64, 62,  9, 15, 15,  0, 38])]\n",
            "[PASS] test_batch_func_next_step\n",
            "======\n",
            "[PASS] passed all tests!\n"
          ]
        }
      ],
      "source": [
        "### Batch definition to create training examples ###\n",
        "\n",
        "def get_batch(vectorized_songs, seq_length, batch_size):\n",
        "  # the length of the vectorized songs string\n",
        "  n = vectorized_songs.shape[0] - 1\n",
        "  # randomly choose the starting indices for the examples in the training batch\n",
        "  idx = np.random.choice(n-seq_length, batch_size)\n",
        "\n",
        "  '''TODO: construct a list of input sequences for the training batch'''\n",
        "#   input_batch = vectorized_songs[idx[0]:idx[1]][:seq_length*batch_size]\n",
        "#   '''TODO: construct a list of output sequences for the training batch'''\n",
        "#   output_batch = vectorized_songs[idx[0]:idx[1]][1:seq_length*batch_size+1]\n",
        "  input_batch = [vectorized_songs[i : i + seq_length] for i in idx]\n",
        "  output_batch = [vectorized_songs[i + 1 : i + seq_length + 1] for i in idx]\n",
        "  print(input_batch)\n",
        "  print(output_batch)\n",
        " \n",
        "  # x_batch, y_batch provide the true inputs and targets for network training\n",
        "  x_batch = np.reshape(input_batch, [batch_size, seq_length])\n",
        "  y_batch = np.reshape(output_batch, [batch_size, seq_length])\n",
        "  return x_batch, y_batch\n",
        "\n",
        "\n",
        "# Perform some simple tests to make sure your batch function is working properly!\n",
        "test_args = (vectorized_songs, 10, 2)\n",
        "if not mdl.lab1.test_batch_func_types(get_batch, test_args) or \\\n",
        "   not mdl.lab1.test_batch_func_shapes(get_batch, test_args) or \\\n",
        "   not mdl.lab1.test_batch_func_next_step(get_batch, test_args):\n",
        "   print(\"======\\n[FAIL] could not pass tests\")\n",
        "else:\n",
        "   print(\"======\\n[PASS] passed all tests!\")"
      ]
    },
    {
      "cell_type": "markdown",
      "metadata": {
        "id": "_33OHL3b84i0"
      },
      "source": [
        "For each of these vectors, each index is processed at a single time step. So, for the input at time step 0, the model receives the index for the first character in the sequence, and tries to predict the index of the next character. At the next timestep, it does the same thing, but the RNN considers the information from the previous step, i.e., its updated state, in addition to the current input.\n",
        "\n",
        "We can make this concrete by taking a look at how this works over the first several characters in our text:"
      ]
    },
    {
      "cell_type": "code",
      "execution_count": 91,
      "metadata": {
        "id": "0eBu9WZG84i0"
      },
      "outputs": [
        {
          "name": "stdout",
          "output_type": "stream",
          "text": [
            "[array([48, 70, 69, 59, 60])]\n",
            "[array([70, 69, 59, 60, 73])]\n",
            "Step   0\n",
            "  input: 48 ('W')\n",
            "  expected output: 70 ('o')\n",
            "Step   1\n",
            "  input: 70 ('o')\n",
            "  expected output: 69 ('n')\n",
            "Step   2\n",
            "  input: 69 ('n')\n",
            "  expected output: 59 ('d')\n",
            "Step   3\n",
            "  input: 59 ('d')\n",
            "  expected output: 60 ('e')\n",
            "Step   4\n",
            "  input: 60 ('e')\n",
            "  expected output: 73 ('r')\n"
          ]
        }
      ],
      "source": [
        "x_batch, y_batch = get_batch(vectorized_songs, seq_length=5, batch_size=1)\n",
        "\n",
        "for i, (input_idx, target_idx) in enumerate(zip(np.squeeze(x_batch), np.squeeze(y_batch))):\n",
        "    print(\"Step {:3d}\".format(i))\n",
        "    print(\"  input: {} ({:s})\".format(input_idx, repr(idx2char[input_idx])))\n",
        "    print(\"  expected output: {} ({:s})\".format(target_idx, repr(idx2char[target_idx])))"
      ]
    },
    {
      "cell_type": "markdown",
      "metadata": {
        "id": "r6oUuElIMgVx"
      },
      "source": [
        "## 2.4 The Recurrent Neural Network (RNN) model"
      ]
    },
    {
      "cell_type": "markdown",
      "metadata": {
        "id": "m8gPwEjRzf-Z"
      },
      "source": [
        "Now we're ready to define and train a RNN model on our ABC music dataset, and then use that trained model to generate a new song. We'll train our RNN using batches of song snippets from our dataset, which we generated in the previous section.\n",
        "\n",
        "The model is based off the LSTM architecture, where we use a state vector to maintain information about the temporal relationships between consecutive characters. The final output of the LSTM is then fed into a fully connected [`Dense`](https://www.tensorflow.org/api_docs/python/tf/keras/layers/Dense) layer where we'll output a softmax over each character in the vocabulary, and then sample from this distribution to predict the next character.\n",
        "\n",
        "As we introduced in the first portion of this lab, we'll be using the Keras API, specifically, [`tf.keras.Sequential`](https://www.tensorflow.org/api_docs/python/tf/keras/models/Sequential), to define the model. Three layers are used to define the model:\n",
        "\n",
        "* [`tf.keras.layers.Embedding`](https://www.tensorflow.org/api_docs/python/tf/keras/layers/Embedding): This is the input layer, consisting of a trainable lookup table that maps the numbers of each character to a vector with `embedding_dim` dimensions.\n",
        "* [`tf.keras.layers.LSTM`](https://www.tensorflow.org/api_docs/python/tf/keras/layers/LSTM): Our LSTM network, with size `units=rnn_units`.\n",
        "* [`tf.keras.layers.Dense`](https://www.tensorflow.org/api_docs/python/tf/keras/layers/Dense): The output layer, with `vocab_size` outputs.\n",
        "\n",
        "\n",
        "<img src=\"https://raw.githubusercontent.com/aamini/introtodeeplearning/2019/lab1/img/lstm_unrolled-01-01.png\" alt=\"Drawing\"/>"
      ]
    },
    {
      "cell_type": "markdown",
      "metadata": {
        "id": "rlaOqndqBmJo"
      },
      "source": [
        "### Define the RNN model\n",
        "\n",
        "Now, we will define a function that we will use to actually build the model."
      ]
    },
    {
      "cell_type": "code",
      "execution_count": 92,
      "metadata": {
        "id": "8DsWzojvkbc7"
      },
      "outputs": [],
      "source": [
        "def LSTM(rnn_units):\n",
        "  return tf.keras.layers.LSTM(\n",
        "    rnn_units,\n",
        "    return_sequences=True,\n",
        "    recurrent_initializer='glorot_uniform',\n",
        "    recurrent_activation='sigmoid',\n",
        "    stateful=True,\n",
        "  )"
      ]
    },
    {
      "cell_type": "markdown",
      "metadata": {
        "id": "IbWU4dMJmMvq"
      },
      "source": [
        "The time has come! Fill in the `TODOs` to define the RNN model within the `build_model` function, and then call the function you just defined to instantiate the model!"
      ]
    },
    {
      "cell_type": "code",
      "execution_count": 93,
      "metadata": {
        "id": "MtCrdfzEI2N0"
      },
      "outputs": [],
      "source": [
        "### Defining the RNN Model ###\n",
        "\n",
        "'''TODO: Add LSTM and Dense layers to define the RNN model using the Sequential API.'''\n",
        "def build_model(vocab_size, embedding_dim, rnn_units, batch_size):\n",
        "  model = tf.keras.Sequential([\n",
        "    # Layer 1: Embedding layer to transform indices into dense vectors\n",
        "    #   of a fixed embedding size\n",
        "    tf.keras.layers.Embedding(vocab_size, embedding_dim, batch_input_shape=[batch_size, None]),\n",
        "\n",
        "    # Layer 2: LSTM with `rnn_units` number of units.\n",
        "    # TODO: Call the LSTM function defined above to add this layer.\n",
        "    LSTM(rnn_units),\n",
        "\n",
        "    # Layer 3: Dense (fully-connected) layer that transforms the LSTM output\n",
        "    #   into the vocabulary size.\n",
        "    # TODO: Add the Dense layer.\n",
        "   tf.keras.layers.Dense(vocab_size)\n",
        "  ])\n",
        "\n",
        "  return model\n",
        "\n",
        "# Build a simple model with default hyperparameters. You will get the\n",
        "#   chance to change these later.\n",
        "model = build_model(len(vocab), embedding_dim=256, rnn_units=1024, batch_size=32)"
      ]
    },
    {
      "cell_type": "markdown",
      "metadata": {
        "id": "-ubPo0_9Prjb"
      },
      "source": [
        "### Test out the RNN model\n",
        "\n",
        "It's always a good idea to run a few simple checks on our model to see that it behaves as expected.  \n",
        "\n",
        "First, we can use the `Model.summary` function to print out a summary of our model's internal workings. Here we can check the layers in the model, the shape of the output of each of the layers, the batch size, etc."
      ]
    },
    {
      "cell_type": "code",
      "execution_count": 96,
      "metadata": {
        "id": "RwG1DD6rDrRM"
      },
      "outputs": [
        {
          "name": "stdout",
          "output_type": "stream",
          "text": [
            "Model: \"sequential_9\"\n",
            "_________________________________________________________________\n",
            " Layer (type)                Output Shape              Param #   \n",
            "=================================================================\n",
            " embedding_10 (Embedding)    (32, None, 256)           21248     \n",
            "                                                                 \n",
            " lstm_10 (LSTM)              (32, None, 1024)          5246976   \n",
            "                                                                 \n",
            " dense_9 (Dense)             (32, None, 83)            85075     \n",
            "                                                                 \n",
            "=================================================================\n",
            "Total params: 5353299 (20.42 MB)\n",
            "Trainable params: 5353299 (20.42 MB)\n",
            "Non-trainable params: 0 (0.00 Byte)\n",
            "_________________________________________________________________\n"
          ]
        }
      ],
      "source": [
        "model.summary()"
      ]
    },
    {
      "cell_type": "markdown",
      "metadata": {
        "id": "8xeDn5nZD0LX"
      },
      "source": [
        "We can also quickly check the dimensionality of our output, using a sequence length of 100. Note that the model can be run on inputs of any length."
      ]
    },
    {
      "cell_type": "code",
      "execution_count": 97,
      "metadata": {
        "id": "C-_70kKAPrPU"
      },
      "outputs": [
        {
          "name": "stdout",
          "output_type": "stream",
          "text": [
            "[array([14,  1, 28, 29, 31, 32, 82, 26, 31, 31, 14,  1, 32, 26, 27, 32, 82,\n",
            "        2,  0, 26, 59, 58, 26,  1, 32, 14, 26, 32, 82, 31, 14, 32, 31,  1,\n",
            "       29, 32, 31, 29, 82, 28, 26,  8, 26,  8, 14,  1, 28, 29, 31, 32, 82,\n",
            "       26, 58, 32, 30,  1, 31, 22, 82,  2,  0, 32, 26, 27, 82, 58, 14, 26,\n",
            "       58,  1, 27, 26, 32, 30, 82, 31, 14, 26, 31,  1, 32, 31, 29, 31, 82,\n",
            "       28, 31, 31, 14,  1, 59, 31, 58, 31, 82, 27, 26, 32, 31,  1]), array([60,  0, 51, 22,  1, 64, 59, 22, 59, 58,  9, 65, 64, 62,  9, 13, 15,\n",
            "       18,  0, 38, 22, 18, 11, 20,  0, 37, 22, 13, 11, 20,  0, 36, 22, 29,\n",
            "        1, 38, 56, 65, 70, 73,  0, 26, 82, 26, 27, 26,  1, 29, 15, 82, 59,\n",
            "       58, 26,  1, 26, 32, 30, 82, 26, 27, 26,  1, 26, 27, 58, 82, 59, 26,\n",
            "       27,  1, 58, 59, 60, 82,  2,  0, 26, 27, 26,  1, 29, 15, 82, 59, 58,\n",
            "       26,  1, 26, 32, 30, 82, 32, 15,  1, 26, 59, 60, 82, 61, 59]), array([69, 69, 56, 76, 62, 63, 75,  1, 38, 56, 69,  5, 74,  1, 43, 56, 68,\n",
            "       57, 67, 60, 74,  0, 51, 22,  1, 64, 59, 22, 59, 58,  9, 65, 64, 62,\n",
            "        9, 14, 15,  0, 38, 22, 18, 11, 20,  0, 37, 22, 13, 11, 20,  0, 36,\n",
            "       22, 29,  1, 38, 56, 65, 70, 73,  0, 26, 82, 31, 26, 26,  1, 59, 26,\n",
            "       26, 82, 27, 26, 27,  1, 59, 26, 32, 82, 31, 26, 26,  1, 26, 61, 60,\n",
            "       82, 59, 27, 27,  1, 27, 14, 26, 82,  2,  0, 31, 26, 26,  1]), array([ 2,  0, 30, 26, 26, 27,  1, 32, 26, 27, 32, 82, 30, 26, 26, 27,  1,\n",
            "       32, 14, 30, 29, 82, 30, 26, 26, 27,  1, 32, 26, 27, 59, 82, 60, 61,\n",
            "       62, 60,  1, 59, 14, 82, 53,  2,  0, 60, 61, 82, 62, 60, 60, 14,  1,\n",
            "       62, 60, 59, 60, 82, 62, 60, 60, 14,  1, 56, 14, 57, 56, 82, 62, 60,\n",
            "       60, 14,  1, 62, 60, 59, 14, 82, 60, 61, 62, 60,  1, 59, 14, 60, 61,\n",
            "       82,  2,  0, 62, 60, 60, 14,  1, 62, 60, 59, 60, 82, 62, 60]), array([53,  2,  0, 60, 82, 61, 56, 59, 56,  1, 61, 59, 56, 62, 82, 60, 62,\n",
            "       24, 58, 59,  1, 60, 61, 62, 60, 82, 61, 56, 59, 60,  1, 61, 59, 59,\n",
            "       58, 82, 59, 14, 26, 32,  1, 31, 26, 29, 60, 82,  2,  0, 61, 56, 59,\n",
            "       56,  1, 61, 59, 56, 62, 82, 60, 62, 24, 58, 59,  1, 60, 61, 62, 60,\n",
            "       82, 56, 61, 62, 60,  1, 60, 59, 59, 58, 82, 59, 14, 26, 32,  1, 31,\n",
            "       26, 29, 82, 53,  2,  0,  0, 49, 22, 14, 20, 14,  0, 45, 22]), array([62, 61, 60, 59, 82,  2,  0, 27, 60, 60, 59,  1, 27, 58, 59, 27, 82,\n",
            "       26, 29, 31, 29,  1, 26, 29, 31, 29, 82, 30, 29, 30, 31,  1, 32, 31,\n",
            "       32, 26, 82, 27, 60, 60, 59,  1, 60, 14, 22, 82,  2,  0, 60, 61, 82,\n",
            "       62, 61, 62, 56,  1, 57, 62, 60, 62, 82, 61, 60, 61, 62,  1, 56, 61,\n",
            "       59, 61, 82, 62, 61, 62, 56,  1, 57, 62, 60, 62, 82, 61, 60, 59, 61,\n",
            "        1, 60, 14, 60, 61, 82,  2,  0, 62, 61, 62, 56,  1, 57, 62]), array([ 0, 61, 60, 82, 59, 26, 31, 26,  1, 29, 26, 31, 26, 82, 59, 14, 60,\n",
            "       58,  1, 59, 58, 27, 58, 82, 26, 14, 58, 60,  1, 26, 14, 58, 60, 82,\n",
            "       61, 59, 60, 58,  1, 59, 58, 27, 26, 82,  2,  0, 59, 26, 31, 26,  1,\n",
            "       29, 26, 31, 26, 82, 59, 14, 60, 58,  1, 59, 58, 27, 26, 82, 62, 61,\n",
            "       62, 57,  1, 56, 61, 59, 61, 82, 60, 26, 27, 58,  1, 59, 14, 22, 82,\n",
            "        2,  0, 27, 24, 58, 82, 59, 62, 62, 14,  1, 57, 62, 62, 14]), array([82,  2,  0, 52, 13,  1, 26, 82, 27, 60, 60,  1, 27, 59, 27, 82, 59,\n",
            "       27, 32,  1, 26, 32, 26, 82, 27, 59, 27,  1, 27, 14, 26, 82, 32, 30,\n",
            "       30,  1, 30, 14, 22, 82,  2,  0, 52, 14,  1, 61, 82, 62, 61, 60,  1,\n",
            "       59, 58, 27, 82, 26, 32, 26,  1, 27, 32, 30, 82, 26, 32, 30,  1, 29,\n",
            "       27,  8, 29, 82, 30, 15,  1, 30, 14, 82, 53,  2,  0, 29, 82, 30, 26,\n",
            "       32,  1, 30, 29, 30, 82, 32, 31, 32,  1, 27, 26, 32, 82, 26]), array([56, 57,  1, 56, 61, 59, 82,  2,  0, 62, 15,  1, 59, 15, 82, 60, 62,\n",
            "       60,  1, 59, 15, 82, 62, 61, 62,  1, 56, 62, 56, 82, 57, 62, 61,  1,\n",
            "       62, 15, 22, 82,  2,  0,  0, 49, 22, 13, 18,  0, 45, 22, 37, 70, 58,\n",
            "       66,  1, 75, 63, 60,  1, 29, 70, 70, 73,  0, 51, 22,  1, 64, 59, 22,\n",
            "       59, 58,  9, 74, 67, 64, 59, 60,  9, 13, 19,  0, 38, 22, 18, 11, 20,\n",
            "        0, 37, 22, 13, 11, 20,  0, 36, 22, 30,  1, 29, 70, 73, 64]), array([62, 14,  1, 61, 14, 82, 58, 15,  1, 59, 82, 60, 25, 61,  1, 60, 59,\n",
            "       82, 27, 15,  1, 58, 82,  2,  0, 59, 25, 60,  1, 59, 11, 58, 11, 27,\n",
            "       82, 26, 15,  1, 27, 11, 26, 11, 82, 52, 13,  1, 32, 26,  1, 27, 58,\n",
            "       82, 59, 15,  1, 60, 11, 61, 11, 22, 82, 52, 14,  1, 32, 62,  1, 61,\n",
            "       56, 82, 62, 14,  1, 62, 14, 82, 53,  2,  0,  0, 49, 22, 13, 13,  0,\n",
            "       45, 22, 28, 73, 70, 71, 71, 64, 60,  5, 74,  1, 38, 56, 73]), array([60,  1,  6, 15, 59, 60, 59,  1,  6, 15, 58, 59, 58, 82,  6, 15, 27,\n",
            "       58, 27,  1,  6, 15, 26, 27, 26,  1,  6, 15, 32, 26, 32,  1,  6, 15,\n",
            "       31, 32, 31, 82, 30, 62, 60, 59,  1, 58, 26, 27, 58, 82, 59, 14, 61,\n",
            "       14,  1, 59, 14, 22, 82,  2,  0,  0, 49, 22, 16,  0, 45, 22, 27, 67,\n",
            "       56, 58, 66, 57, 64, 73, 59,  0, 51, 22,  1, 64, 59, 22, 59, 58,  9,\n",
            "       63, 70, 73, 69, 71, 64, 71, 60,  9, 16,  0, 38, 22, 28, 82]), array([62, 82,  2,  0, 56, 26, 26, 14,  1, 26, 27, 26, 31, 82, 30, 31, 26,\n",
            "       58,  1, 59, 58, 27, 26, 82, 27, 58, 59, 60,  1, 61, 60, 61, 56, 82,\n",
            "       26, 14, 58, 27,  1, 26, 14, 22, 82,  2,  0, 60, 59, 82, 58, 26, 60,\n",
            "       26,  1, 61, 26, 60, 26, 82, 58, 26, 60, 26,  1, 61, 60, 59, 58, 82,\n",
            "       59, 27, 61, 27,  1, 62, 27, 61, 27, 82, 59, 60, 61, 62,  1, 56, 61,\n",
            "       60, 59, 82,  2,  0, 58, 26, 60, 26,  1, 61, 26, 60, 26, 82]), array([38, 56, 65, 70, 73,  0, 59, 82, 60, 59, 27,  1, 32, 31, 32, 82, 29,\n",
            "       30, 29,  1, 32, 31, 32, 82, 29, 30, 29,  1, 58, 27, 26, 82, 27, 32,\n",
            "       30,  1, 30, 14, 59, 82,  2,  0, 60, 59, 27,  1, 32, 31, 32, 82, 29,\n",
            "       30, 29,  1, 32, 26, 27, 82, 26, 32, 31,  1, 32, 27, 26, 82, 32, 31,\n",
            "       30,  1, 29, 14, 22, 82,  2,  0, 59, 82, 27, 26, 27,  1, 59, 27, 32,\n",
            "       82, 27, 26, 27,  1, 59, 27, 32, 82, 26, 27, 26,  1, 26, 32]), array([14, 59, 61,  1, 60, 14, 58, 60, 82, 59, 58, 59, 26,  1, 27, 26, 31,\n",
            "       26, 82, 29, 31, 26, 59,  1, 31, 26, 59, 61, 82, 56, 61, 60, 62,  1,\n",
            "       61, 59, 59, 22, 82,  2,  0,  0, 49, 22, 13, 13, 12,  0, 45, 22, 31,\n",
            "       67, 70, 56, 75, 64, 69, 62,  1, 28, 73, 70, 78, 57, 56, 73,  0, 51,\n",
            "       22,  1, 64, 59, 22, 59, 58,  9, 73, 60, 60, 67,  9, 13, 12, 14,  0,\n",
            "       38, 22, 28,  0, 37, 22, 13, 11, 20,  0, 36, 22, 29,  1, 38]), array([ 2,  0, 31, 82, 32, 27, 59,  1, 62, 15, 82, 62, 56, 61,  1, 62, 15,\n",
            "       82, 59, 62, 62,  1, 62, 61, 62, 82, 56, 14, 62,  1, 61, 62, 56, 82,\n",
            "        2,  0, 57, 56, 62,  1, 56, 62, 61, 82, 62, 61, 60,  1, 61, 14, 60,\n",
            "       82, 59, 58, 26,  1, 59, 14, 60, 82, 61, 60, 59,  1, 58, 26, 22, 82,\n",
            "        2,  0,  0, 49, 22, 13, 13, 14,  0, 45, 22, 40, 73, 71, 63, 56, 69,\n",
            "        0, 51, 22,  1, 64, 59, 22, 59, 58,  9, 65, 64, 62,  9, 21]), array([ 2,  0, 32, 82, 31, 26, 59, 26,  1, 31, 26, 27, 26, 82, 31, 26, 59,\n",
            "       26,  1, 31, 30, 30, 32, 82, 31, 26, 59, 26,  1, 31, 26, 27, 58, 82,\n",
            "       59, 27, 26, 32,  1, 31, 29, 29, 32, 82,  2,  0, 31, 26, 59, 26,  1,\n",
            "       31, 26, 27, 26, 82, 31, 26, 59, 26,  1, 31, 30, 30, 60, 82, 61, 14,\n",
            "       60, 58,  1, 59, 27, 26, 31, 82, 32, 27, 26, 32,  1, 31, 29, 29, 22,\n",
            "       82,  2,  0,  0, 49, 22, 18, 13,  0, 45, 22, 28, 76, 73, 67]), array([59, 26, 82, 27, 60, 60, 14,  1, 27, 60, 60, 61, 82, 62, 61, 60, 62,\n",
            "        1, 61, 60, 59, 27, 82, 26, 59, 27, 26,  1, 32, 30, 30, 61, 82,  2,\n",
            "        0, 62, 61, 60, 62,  1, 61, 60, 59, 26, 82, 27, 60, 60, 59,  1, 60,\n",
            "       14, 60, 61, 82, 62, 14, 61, 62,  1, 60, 59, 27, 32, 82, 26, 59, 27,\n",
            "       26,  1, 32, 30, 30, 22, 82,  2,  0,  0, 49, 22, 20, 19,  0, 45, 22,\n",
            "       30, 56, 73, 67,  5, 74,  1, 28, 63, 56, 64, 73,  0, 51, 22]), array([ 9, 65, 64, 62,  9, 15, 21,  0, 38, 22, 18, 11, 20,  0, 37, 22, 13,\n",
            "       11, 20,  0, 36, 22, 29,  1, 38, 56, 65, 70, 73,  0, 30, 82, 31, 26,\n",
            "       29,  1, 31, 26, 29, 82, 32, 31, 32,  1, 30, 31, 32, 82, 31, 26, 29,\n",
            "        1, 31, 26, 29, 82, 32, 30, 29,  1, 29, 14, 30, 82,  2,  0, 31, 26,\n",
            "       29,  1, 31, 26, 29, 82, 32, 31, 32,  1, 30, 31, 32, 82, 61, 60, 59,\n",
            "        1, 60, 58, 26, 82, 32, 30, 29,  1, 29, 14, 22, 82,  2,  0]), array([22, 13, 11, 20,  0, 36, 22, 29,  1, 29, 70, 73, 64, 56, 69,  0, 30,\n",
            "       82, 31, 14, 31, 30,  1, 31, 14, 29, 30, 82, 31, 14, 26, 31,  1, 32,\n",
            "       30, 28, 30, 82, 29, 59, 59, 58,  1, 59, 60, 61, 60, 82, 59, 14, 58,\n",
            "       59,  1, 26, 27, 58, 26, 82,  2,  0, 59, 15, 58,  1, 26, 15, 27, 82,\n",
            "       58, 27, 58, 32,  1, 30, 28, 28, 30, 82, 29, 59, 59, 58,  1, 26, 15,\n",
            "       27, 82, 58, 26, 32, 30,  1, 30, 29, 29, 22, 82,  2,  0, 30]), array([ 1, 29, 73, 64, 69, 66, 64, 69, 62,  0, 51, 22,  1, 64, 59, 22, 59,\n",
            "       58,  9, 70, 58, 56, 73, 70, 67, 56, 69,  9, 14,  0, 38, 22, 28, 82,\n",
            "        0, 37, 22, 13, 11, 20,  0, 36, 22, 32,  1, 38, 56, 65, 70, 73,  0,\n",
            "       62, 61, 82, 60, 59, 58, 27,  1, 58, 27, 26, 32, 82, 30, 14, 32, 26,\n",
            "        1, 32, 14, 62, 61, 82, 60, 59, 58, 27,  1, 58, 27, 58, 59, 82, 60,\n",
            "       14, 26, 27,  1, 26, 14, 27, 58, 82,  2,  0, 59, 27, 59, 60]), array([20,  0, 36, 22, 32,  1, 38, 56, 65, 70, 73,  0, 59, 32, 32, 14,  1,\n",
            "       59, 32, 60, 32, 82, 59, 32, 32, 26,  1, 27, 26, 26, 14, 82, 59, 32,\n",
            "       32, 14,  1, 59, 60, 59, 27, 82, 26, 58, 27, 26,  1, 32, 30, 29, 14,\n",
            "       82,  2,  0, 59, 32, 32, 14,  1, 59, 32, 60, 32, 82, 59, 32, 32, 26,\n",
            "        1, 27, 26, 26, 14, 82, 27, 59, 59, 14,  1, 60, 14, 59, 27, 82, 26,\n",
            "       58, 27, 26,  1, 32, 30, 29, 14, 82, 53,  2,  0, 62, 61, 62]), array([56, 60, 58,  1, 59, 27, 26, 31, 82, 32, 31, 30, 31,  1, 32, 26, 27,\n",
            "       58, 82, 53,  2,  0,  0, 49, 22, 13, 16, 12,  0, 45, 22, 33, 56, 73,\n",
            "       60,  5, 74,  1, 31, 70, 70, 75,  0, 51, 22,  1, 64, 59, 22, 59, 58,\n",
            "        9, 73, 60, 60, 67,  9, 13, 14, 21,  0, 38, 22, 28,  0, 37, 22, 13,\n",
            "       11, 20,  0, 36, 22, 30,  1, 29, 70, 73, 64, 56, 69,  0, 27, 26, 82,\n",
            "       32, 15, 26,  1, 27, 30, 30, 14, 82, 27, 30, 59, 30,  1, 27]), array([61, 62, 60, 82, 59, 62, 60, 59,  1, 58, 26, 32, 30, 82,  1, 26, 59,\n",
            "       59, 54, 58,  1, 59, 60, 61, 62, 82, 56, 61, 62, 60,  1, 59, 14, 22,\n",
            "       82,  2,  0,  0, 49, 22, 19,  0, 45, 22, 27, 56, 69, 74, 63, 60, 60,\n",
            "        0, 51, 22,  1, 64, 59, 22, 59, 58,  9, 73, 60, 60, 67,  9, 20,  0,\n",
            "       38, 22, 28,  0, 37, 22, 13, 11, 20,  0, 36, 22, 32,  1, 38, 56, 65,\n",
            "       70, 73,  0, 32, 15, 29,  1, 30, 29, 30, 32, 82, 26, 32, 26]), array([45, 22, 33, 76, 68, 70, 76, 73, 74,  1, 70, 61,  1, 27, 56, 69, 59,\n",
            "       70, 69,  0, 51, 22,  1, 64, 59, 22, 59, 58,  9, 74, 60, 75, 59, 56,\n",
            "       69, 58, 60,  9, 21,  0, 38, 22, 18, 11, 20,  0, 37, 22, 13, 11, 20,\n",
            "        0, 36, 22, 32,  1, 38, 56, 65, 70, 73,  0, 28, 82, 29, 32, 32,  1,\n",
            "       32, 31, 32, 82, 26, 14, 32,  1, 31, 32, 26, 82, 27, 32, 32,  1, 32,\n",
            "       31, 32, 82, 26, 59, 60,  1, 61, 60, 61, 82,  2,  0, 59, 14]), array([ 1, 59, 27, 27, 26, 82, 27, 14, 26, 31,  1, 26, 27, 59, 60, 82, 61,\n",
            "       14, 60, 59,  1, 61, 60, 60, 14, 82,  2,  0, 59, 26, 26, 14,  1, 29,\n",
            "       30, 31, 26, 82, 59, 14, 61, 60,  1, 59, 27, 27, 26, 82, 27, 14, 26,\n",
            "       31,  1, 26, 27, 59, 27, 82, 26, 31, 30, 32,  1, 31, 29, 29, 22, 82,\n",
            "        2,  0, 60, 82, 61, 56, 56, 61,  1, 56, 61, 59, 61, 82, 62, 61, 60,\n",
            "       59,  1, 58, 59, 60, 61, 82, 62, 14, 62, 61,  1, 62, 57, 56]), array([27, 82, 32, 15,  1, 31, 15, 82, 29, 31, 26,  1, 26, 31, 29, 82,  2,\n",
            "        0, 32, 15,  1, 31, 15, 82, 30, 14, 27,  1, 27, 26, 27, 82, 32, 26,\n",
            "       27,  1, 59, 27, 32, 82, 26, 27, 32,  1, 31, 30, 29, 22, 82,  2,  0,\n",
            "       32, 26, 27,  1, 59, 14, 59, 82, 60, 59, 27,  1, 59, 27, 26, 82, 32,\n",
            "       26, 27,  1, 59, 27, 32, 82, 26, 27, 32,  1, 31, 30, 29, 82,  2,  0,\n",
            "       32, 26, 27,  1, 59, 14, 59, 82, 60, 59, 27,  1, 59, 60, 61]), array([71,  1, 70, 61,  1, 45, 60, 56,  0, 51, 22,  1, 64, 59, 22, 59, 58,\n",
            "        9, 73, 60, 60, 67,  9, 17, 16,  0, 38, 22, 28,  0, 37, 22, 13, 11,\n",
            "       20,  0, 36, 22, 30,  1, 29, 70, 73, 64, 56, 69,  0, 26, 82, 27, 26,\n",
            "       32, 31,  1, 32, 30, 30, 31, 82, 32, 30, 27, 30,  1, 32, 30, 30, 26,\n",
            "       82, 27, 26, 32, 31,  1, 32, 30, 30, 32, 82, 31, 29, 26, 32,  1, 31,\n",
            "       29, 29, 26, 82,  2,  0, 27, 26, 32, 31,  1, 32, 30, 30, 31]), array([82, 61, 15,  1, 62, 15, 82, 60, 59, 58,  1, 59, 15, 22, 82,  2,  0,\n",
            "       61, 56, 56,  1, 56, 62, 61, 82, 60, 61, 62,  1, 60, 61, 62, 82, 61,\n",
            "       15,  1, 62, 15, 82, 60, 58, 26,  1, 32, 31, 30, 82,  2,  0, 29, 31,\n",
            "       26,  1, 59, 58, 59, 82, 60, 58, 26,  1, 58, 59, 60, 82, 61, 15,  1,\n",
            "       62, 15, 82, 60, 59, 58,  1, 59, 15, 22, 82,  2,  0,  0, 49, 22, 13,\n",
            "       17, 17,  0, 45, 22, 45, 70, 68,  1, 27, 64, 67, 67, 80,  5]), array([62, 61, 62,  1, 60, 59, 58, 27, 82, 58, 60, 59, 27,  1, 26, 14, 27,\n",
            "       58, 82,  2,  0, 59, 62, 62, 61,  1, 62, 14, 61, 60, 82, 59, 60, 59,\n",
            "       58,  1, 27, 14, 26, 32, 82, 26, 27, 58, 26,  1, 59, 58, 26, 31, 82,\n",
            "       32, 14, 32, 31,  1, 32, 14, 22, 82,  2,  0, 27, 58, 82, 59, 62, 62,\n",
            "       61,  1, 62, 14, 61, 60, 82, 59, 60, 59, 58,  1, 27, 14, 26, 32, 82,\n",
            "       26, 27, 58, 26,  1, 60, 59, 58, 27, 82, 26, 59, 59, 54, 58]), array([26, 82, 59, 60, 61, 62,  1, 56, 61, 59, 27, 82, 58, 59, 60, 61,  1,\n",
            "       62, 60, 58, 26, 82, 59, 60, 61, 62,  1, 56, 61, 59, 61, 82, 62, 14,\n",
            "       56, 62,  1, 61, 59, 59, 61, 82,  2,  0, 56, 61, 59, 61,  1, 56, 61,\n",
            "       59, 61, 82, 62, 60, 58, 60, 82, 62, 60, 58, 60, 82, 59, 60, 61, 62,\n",
            "        1, 56, 15, 61, 82, 62, 14, 56, 62,  1, 61, 59, 59, 22, 82,  2,  0,\n",
            "        0, 49, 22, 17, 15,  0, 45, 22, 28, 73, 56, 64, 62,  5, 74]), array([53,  2,  0,  0, 49, 22, 13, 16,  0, 45, 22, 27, 67, 56, 58, 66, 57,\n",
            "       64, 73, 59,  0, 51, 22,  1, 64, 59, 22, 59, 58,  9, 73, 60, 60, 67,\n",
            "        9, 13, 17,  0, 38, 22, 28,  0, 37, 22, 13, 11, 20,  0, 36, 22, 29,\n",
            "        1, 38, 64, 79, 70, 67, 80, 59, 64, 56, 69,  0, 32, 26, 82, 27, 14,\n",
            "       58, 27,  1, 26, 14, 27, 54, 58, 82, 59, 14, 26, 32,  1, 31, 14, 29,\n",
            "       30, 82, 31, 32, 26, 31,  1, 32, 58, 26, 32, 82, 31, 14, 29]), array([29, 31, 31, 14,  1, 32, 31, 30, 31, 82, 29, 14, 31, 26,  1, 59, 26,\n",
            "       27, 32, 82, 31, 14, 26, 31,  1, 32, 31, 32, 27, 82, 26, 31, 29, 27,\n",
            "        8,  1, 26,  8, 27,  8, 28, 30, 82,  2,  0, 29, 31, 31, 14,  1, 32,\n",
            "       31, 30, 31, 82, 29, 14, 31, 26,  1, 59, 26, 27, 32, 82, 31, 14, 26,\n",
            "       31,  1, 32, 31, 32, 27, 82, 26, 31, 30, 32,  1, 31, 29, 29, 14, 22,\n",
            "       82,  2,  0, 61, 59, 59, 14,  1, 62, 14, 56, 62, 82, 61, 59])]\n",
            "[array([ 1, 28, 29, 31, 32, 82, 26, 31, 31, 14,  1, 32, 26, 27, 32, 82,  2,\n",
            "        0, 26, 59, 58, 26,  1, 32, 14, 26, 32, 82, 31, 14, 32, 31,  1, 29,\n",
            "       32, 31, 29, 82, 28, 26,  8, 26,  8, 14,  1, 28, 29, 31, 32, 82, 26,\n",
            "       58, 32, 30,  1, 31, 22, 82,  2,  0, 32, 26, 27, 82, 58, 14, 26, 58,\n",
            "        1, 27, 26, 32, 30, 82, 31, 14, 26, 31,  1, 32, 31, 29, 31, 82, 28,\n",
            "       31, 31, 14,  1, 59, 31, 58, 31, 82, 27, 26, 32, 31,  1, 30]), array([ 0, 51, 22,  1, 64, 59, 22, 59, 58,  9, 65, 64, 62,  9, 13, 15, 18,\n",
            "        0, 38, 22, 18, 11, 20,  0, 37, 22, 13, 11, 20,  0, 36, 22, 29,  1,\n",
            "       38, 56, 65, 70, 73,  0, 26, 82, 26, 27, 26,  1, 29, 15, 82, 59, 58,\n",
            "       26,  1, 26, 32, 30, 82, 26, 27, 26,  1, 26, 27, 58, 82, 59, 26, 27,\n",
            "        1, 58, 59, 60, 82,  2,  0, 26, 27, 26,  1, 29, 15, 82, 59, 58, 26,\n",
            "        1, 26, 32, 30, 82, 32, 15,  1, 26, 59, 60, 82, 61, 59, 58]), array([69, 56, 76, 62, 63, 75,  1, 38, 56, 69,  5, 74,  1, 43, 56, 68, 57,\n",
            "       67, 60, 74,  0, 51, 22,  1, 64, 59, 22, 59, 58,  9, 65, 64, 62,  9,\n",
            "       14, 15,  0, 38, 22, 18, 11, 20,  0, 37, 22, 13, 11, 20,  0, 36, 22,\n",
            "       29,  1, 38, 56, 65, 70, 73,  0, 26, 82, 31, 26, 26,  1, 59, 26, 26,\n",
            "       82, 27, 26, 27,  1, 59, 26, 32, 82, 31, 26, 26,  1, 26, 61, 60, 82,\n",
            "       59, 27, 27,  1, 27, 14, 26, 82,  2,  0, 31, 26, 26,  1, 59]), array([ 0, 30, 26, 26, 27,  1, 32, 26, 27, 32, 82, 30, 26, 26, 27,  1, 32,\n",
            "       14, 30, 29, 82, 30, 26, 26, 27,  1, 32, 26, 27, 59, 82, 60, 61, 62,\n",
            "       60,  1, 59, 14, 82, 53,  2,  0, 60, 61, 82, 62, 60, 60, 14,  1, 62,\n",
            "       60, 59, 60, 82, 62, 60, 60, 14,  1, 56, 14, 57, 56, 82, 62, 60, 60,\n",
            "       14,  1, 62, 60, 59, 14, 82, 60, 61, 62, 60,  1, 59, 14, 60, 61, 82,\n",
            "        2,  0, 62, 60, 60, 14,  1, 62, 60, 59, 60, 82, 62, 60, 60]), array([ 2,  0, 60, 82, 61, 56, 59, 56,  1, 61, 59, 56, 62, 82, 60, 62, 24,\n",
            "       58, 59,  1, 60, 61, 62, 60, 82, 61, 56, 59, 60,  1, 61, 59, 59, 58,\n",
            "       82, 59, 14, 26, 32,  1, 31, 26, 29, 60, 82,  2,  0, 61, 56, 59, 56,\n",
            "        1, 61, 59, 56, 62, 82, 60, 62, 24, 58, 59,  1, 60, 61, 62, 60, 82,\n",
            "       56, 61, 62, 60,  1, 60, 59, 59, 58, 82, 59, 14, 26, 32,  1, 31, 26,\n",
            "       29, 82, 53,  2,  0,  0, 49, 22, 14, 20, 14,  0, 45, 22, 41]), array([61, 60, 59, 82,  2,  0, 27, 60, 60, 59,  1, 27, 58, 59, 27, 82, 26,\n",
            "       29, 31, 29,  1, 26, 29, 31, 29, 82, 30, 29, 30, 31,  1, 32, 31, 32,\n",
            "       26, 82, 27, 60, 60, 59,  1, 60, 14, 22, 82,  2,  0, 60, 61, 82, 62,\n",
            "       61, 62, 56,  1, 57, 62, 60, 62, 82, 61, 60, 61, 62,  1, 56, 61, 59,\n",
            "       61, 82, 62, 61, 62, 56,  1, 57, 62, 60, 62, 82, 61, 60, 59, 61,  1,\n",
            "       60, 14, 60, 61, 82,  2,  0, 62, 61, 62, 56,  1, 57, 62, 60]), array([61, 60, 82, 59, 26, 31, 26,  1, 29, 26, 31, 26, 82, 59, 14, 60, 58,\n",
            "        1, 59, 58, 27, 58, 82, 26, 14, 58, 60,  1, 26, 14, 58, 60, 82, 61,\n",
            "       59, 60, 58,  1, 59, 58, 27, 26, 82,  2,  0, 59, 26, 31, 26,  1, 29,\n",
            "       26, 31, 26, 82, 59, 14, 60, 58,  1, 59, 58, 27, 26, 82, 62, 61, 62,\n",
            "       57,  1, 56, 61, 59, 61, 82, 60, 26, 27, 58,  1, 59, 14, 22, 82,  2,\n",
            "        0, 27, 24, 58, 82, 59, 62, 62, 14,  1, 57, 62, 62, 14, 82]), array([ 2,  0, 52, 13,  1, 26, 82, 27, 60, 60,  1, 27, 59, 27, 82, 59, 27,\n",
            "       32,  1, 26, 32, 26, 82, 27, 59, 27,  1, 27, 14, 26, 82, 32, 30, 30,\n",
            "        1, 30, 14, 22, 82,  2,  0, 52, 14,  1, 61, 82, 62, 61, 60,  1, 59,\n",
            "       58, 27, 82, 26, 32, 26,  1, 27, 32, 30, 82, 26, 32, 30,  1, 29, 27,\n",
            "        8, 29, 82, 30, 15,  1, 30, 14, 82, 53,  2,  0, 29, 82, 30, 26, 32,\n",
            "        1, 30, 29, 30, 82, 32, 31, 32,  1, 27, 26, 32, 82, 26, 32]), array([57,  1, 56, 61, 59, 82,  2,  0, 62, 15,  1, 59, 15, 82, 60, 62, 60,\n",
            "        1, 59, 15, 82, 62, 61, 62,  1, 56, 62, 56, 82, 57, 62, 61,  1, 62,\n",
            "       15, 22, 82,  2,  0,  0, 49, 22, 13, 18,  0, 45, 22, 37, 70, 58, 66,\n",
            "        1, 75, 63, 60,  1, 29, 70, 70, 73,  0, 51, 22,  1, 64, 59, 22, 59,\n",
            "       58,  9, 74, 67, 64, 59, 60,  9, 13, 19,  0, 38, 22, 18, 11, 20,  0,\n",
            "       37, 22, 13, 11, 20,  0, 36, 22, 30,  1, 29, 70, 73, 64, 56]), array([14,  1, 61, 14, 82, 58, 15,  1, 59, 82, 60, 25, 61,  1, 60, 59, 82,\n",
            "       27, 15,  1, 58, 82,  2,  0, 59, 25, 60,  1, 59, 11, 58, 11, 27, 82,\n",
            "       26, 15,  1, 27, 11, 26, 11, 82, 52, 13,  1, 32, 26,  1, 27, 58, 82,\n",
            "       59, 15,  1, 60, 11, 61, 11, 22, 82, 52, 14,  1, 32, 62,  1, 61, 56,\n",
            "       82, 62, 14,  1, 62, 14, 82, 53,  2,  0,  0, 49, 22, 13, 13,  0, 45,\n",
            "       22, 28, 73, 70, 71, 71, 64, 60,  5, 74,  1, 38, 56, 73, 58]), array([ 1,  6, 15, 59, 60, 59,  1,  6, 15, 58, 59, 58, 82,  6, 15, 27, 58,\n",
            "       27,  1,  6, 15, 26, 27, 26,  1,  6, 15, 32, 26, 32,  1,  6, 15, 31,\n",
            "       32, 31, 82, 30, 62, 60, 59,  1, 58, 26, 27, 58, 82, 59, 14, 61, 14,\n",
            "        1, 59, 14, 22, 82,  2,  0,  0, 49, 22, 16,  0, 45, 22, 27, 67, 56,\n",
            "       58, 66, 57, 64, 73, 59,  0, 51, 22,  1, 64, 59, 22, 59, 58,  9, 63,\n",
            "       70, 73, 69, 71, 64, 71, 60,  9, 16,  0, 38, 22, 28, 82,  0]), array([82,  2,  0, 56, 26, 26, 14,  1, 26, 27, 26, 31, 82, 30, 31, 26, 58,\n",
            "        1, 59, 58, 27, 26, 82, 27, 58, 59, 60,  1, 61, 60, 61, 56, 82, 26,\n",
            "       14, 58, 27,  1, 26, 14, 22, 82,  2,  0, 60, 59, 82, 58, 26, 60, 26,\n",
            "        1, 61, 26, 60, 26, 82, 58, 26, 60, 26,  1, 61, 60, 59, 58, 82, 59,\n",
            "       27, 61, 27,  1, 62, 27, 61, 27, 82, 59, 60, 61, 62,  1, 56, 61, 60,\n",
            "       59, 82,  2,  0, 58, 26, 60, 26,  1, 61, 26, 60, 26, 82, 30]), array([56, 65, 70, 73,  0, 59, 82, 60, 59, 27,  1, 32, 31, 32, 82, 29, 30,\n",
            "       29,  1, 32, 31, 32, 82, 29, 30, 29,  1, 58, 27, 26, 82, 27, 32, 30,\n",
            "        1, 30, 14, 59, 82,  2,  0, 60, 59, 27,  1, 32, 31, 32, 82, 29, 30,\n",
            "       29,  1, 32, 26, 27, 82, 26, 32, 31,  1, 32, 27, 26, 82, 32, 31, 30,\n",
            "        1, 29, 14, 22, 82,  2,  0, 59, 82, 27, 26, 27,  1, 59, 27, 32, 82,\n",
            "       27, 26, 27,  1, 59, 27, 32, 82, 26, 27, 26,  1, 26, 32, 26]), array([59, 61,  1, 60, 14, 58, 60, 82, 59, 58, 59, 26,  1, 27, 26, 31, 26,\n",
            "       82, 29, 31, 26, 59,  1, 31, 26, 59, 61, 82, 56, 61, 60, 62,  1, 61,\n",
            "       59, 59, 22, 82,  2,  0,  0, 49, 22, 13, 13, 12,  0, 45, 22, 31, 67,\n",
            "       70, 56, 75, 64, 69, 62,  1, 28, 73, 70, 78, 57, 56, 73,  0, 51, 22,\n",
            "        1, 64, 59, 22, 59, 58,  9, 73, 60, 60, 67,  9, 13, 12, 14,  0, 38,\n",
            "       22, 28,  0, 37, 22, 13, 11, 20,  0, 36, 22, 29,  1, 38, 64]), array([ 0, 31, 82, 32, 27, 59,  1, 62, 15, 82, 62, 56, 61,  1, 62, 15, 82,\n",
            "       59, 62, 62,  1, 62, 61, 62, 82, 56, 14, 62,  1, 61, 62, 56, 82,  2,\n",
            "        0, 57, 56, 62,  1, 56, 62, 61, 82, 62, 61, 60,  1, 61, 14, 60, 82,\n",
            "       59, 58, 26,  1, 59, 14, 60, 82, 61, 60, 59,  1, 58, 26, 22, 82,  2,\n",
            "        0,  0, 49, 22, 13, 13, 14,  0, 45, 22, 40, 73, 71, 63, 56, 69,  0,\n",
            "       51, 22,  1, 64, 59, 22, 59, 58,  9, 65, 64, 62,  9, 21, 15]), array([ 0, 32, 82, 31, 26, 59, 26,  1, 31, 26, 27, 26, 82, 31, 26, 59, 26,\n",
            "        1, 31, 30, 30, 32, 82, 31, 26, 59, 26,  1, 31, 26, 27, 58, 82, 59,\n",
            "       27, 26, 32,  1, 31, 29, 29, 32, 82,  2,  0, 31, 26, 59, 26,  1, 31,\n",
            "       26, 27, 26, 82, 31, 26, 59, 26,  1, 31, 30, 30, 60, 82, 61, 14, 60,\n",
            "       58,  1, 59, 27, 26, 31, 82, 32, 27, 26, 32,  1, 31, 29, 29, 22, 82,\n",
            "        2,  0,  0, 49, 22, 18, 13,  0, 45, 22, 28, 76, 73, 67, 60]), array([26, 82, 27, 60, 60, 14,  1, 27, 60, 60, 61, 82, 62, 61, 60, 62,  1,\n",
            "       61, 60, 59, 27, 82, 26, 59, 27, 26,  1, 32, 30, 30, 61, 82,  2,  0,\n",
            "       62, 61, 60, 62,  1, 61, 60, 59, 26, 82, 27, 60, 60, 59,  1, 60, 14,\n",
            "       60, 61, 82, 62, 14, 61, 62,  1, 60, 59, 27, 32, 82, 26, 59, 27, 26,\n",
            "        1, 32, 30, 30, 22, 82,  2,  0,  0, 49, 22, 20, 19,  0, 45, 22, 30,\n",
            "       56, 73, 67,  5, 74,  1, 28, 63, 56, 64, 73,  0, 51, 22,  1]), array([65, 64, 62,  9, 15, 21,  0, 38, 22, 18, 11, 20,  0, 37, 22, 13, 11,\n",
            "       20,  0, 36, 22, 29,  1, 38, 56, 65, 70, 73,  0, 30, 82, 31, 26, 29,\n",
            "        1, 31, 26, 29, 82, 32, 31, 32,  1, 30, 31, 32, 82, 31, 26, 29,  1,\n",
            "       31, 26, 29, 82, 32, 30, 29,  1, 29, 14, 30, 82,  2,  0, 31, 26, 29,\n",
            "        1, 31, 26, 29, 82, 32, 31, 32,  1, 30, 31, 32, 82, 61, 60, 59,  1,\n",
            "       60, 58, 26, 82, 32, 30, 29,  1, 29, 14, 22, 82,  2,  0, 26]), array([13, 11, 20,  0, 36, 22, 29,  1, 29, 70, 73, 64, 56, 69,  0, 30, 82,\n",
            "       31, 14, 31, 30,  1, 31, 14, 29, 30, 82, 31, 14, 26, 31,  1, 32, 30,\n",
            "       28, 30, 82, 29, 59, 59, 58,  1, 59, 60, 61, 60, 82, 59, 14, 58, 59,\n",
            "        1, 26, 27, 58, 26, 82,  2,  0, 59, 15, 58,  1, 26, 15, 27, 82, 58,\n",
            "       27, 58, 32,  1, 30, 28, 28, 30, 82, 29, 59, 59, 58,  1, 26, 15, 27,\n",
            "       82, 58, 26, 32, 30,  1, 30, 29, 29, 22, 82,  2,  0, 30, 82]), array([29, 73, 64, 69, 66, 64, 69, 62,  0, 51, 22,  1, 64, 59, 22, 59, 58,\n",
            "        9, 70, 58, 56, 73, 70, 67, 56, 69,  9, 14,  0, 38, 22, 28, 82,  0,\n",
            "       37, 22, 13, 11, 20,  0, 36, 22, 32,  1, 38, 56, 65, 70, 73,  0, 62,\n",
            "       61, 82, 60, 59, 58, 27,  1, 58, 27, 26, 32, 82, 30, 14, 32, 26,  1,\n",
            "       32, 14, 62, 61, 82, 60, 59, 58, 27,  1, 58, 27, 58, 59, 82, 60, 14,\n",
            "       26, 27,  1, 26, 14, 27, 58, 82,  2,  0, 59, 27, 59, 60,  1]), array([ 0, 36, 22, 32,  1, 38, 56, 65, 70, 73,  0, 59, 32, 32, 14,  1, 59,\n",
            "       32, 60, 32, 82, 59, 32, 32, 26,  1, 27, 26, 26, 14, 82, 59, 32, 32,\n",
            "       14,  1, 59, 60, 59, 27, 82, 26, 58, 27, 26,  1, 32, 30, 29, 14, 82,\n",
            "        2,  0, 59, 32, 32, 14,  1, 59, 32, 60, 32, 82, 59, 32, 32, 26,  1,\n",
            "       27, 26, 26, 14, 82, 27, 59, 59, 14,  1, 60, 14, 59, 27, 82, 26, 58,\n",
            "       27, 26,  1, 32, 30, 29, 14, 82, 53,  2,  0, 62, 61, 62, 56]), array([60, 58,  1, 59, 27, 26, 31, 82, 32, 31, 30, 31,  1, 32, 26, 27, 58,\n",
            "       82, 53,  2,  0,  0, 49, 22, 13, 16, 12,  0, 45, 22, 33, 56, 73, 60,\n",
            "        5, 74,  1, 31, 70, 70, 75,  0, 51, 22,  1, 64, 59, 22, 59, 58,  9,\n",
            "       73, 60, 60, 67,  9, 13, 14, 21,  0, 38, 22, 28,  0, 37, 22, 13, 11,\n",
            "       20,  0, 36, 22, 30,  1, 29, 70, 73, 64, 56, 69,  0, 27, 26, 82, 32,\n",
            "       15, 26,  1, 27, 30, 30, 14, 82, 27, 30, 59, 30,  1, 27, 30]), array([62, 60, 82, 59, 62, 60, 59,  1, 58, 26, 32, 30, 82,  1, 26, 59, 59,\n",
            "       54, 58,  1, 59, 60, 61, 62, 82, 56, 61, 62, 60,  1, 59, 14, 22, 82,\n",
            "        2,  0,  0, 49, 22, 19,  0, 45, 22, 27, 56, 69, 74, 63, 60, 60,  0,\n",
            "       51, 22,  1, 64, 59, 22, 59, 58,  9, 73, 60, 60, 67,  9, 20,  0, 38,\n",
            "       22, 28,  0, 37, 22, 13, 11, 20,  0, 36, 22, 32,  1, 38, 56, 65, 70,\n",
            "       73,  0, 32, 15, 29,  1, 30, 29, 30, 32, 82, 26, 32, 26, 27]), array([22, 33, 76, 68, 70, 76, 73, 74,  1, 70, 61,  1, 27, 56, 69, 59, 70,\n",
            "       69,  0, 51, 22,  1, 64, 59, 22, 59, 58,  9, 74, 60, 75, 59, 56, 69,\n",
            "       58, 60,  9, 21,  0, 38, 22, 18, 11, 20,  0, 37, 22, 13, 11, 20,  0,\n",
            "       36, 22, 32,  1, 38, 56, 65, 70, 73,  0, 28, 82, 29, 32, 32,  1, 32,\n",
            "       31, 32, 82, 26, 14, 32,  1, 31, 32, 26, 82, 27, 32, 32,  1, 32, 31,\n",
            "       32, 82, 26, 59, 60,  1, 61, 60, 61, 82,  2,  0, 59, 14, 60]), array([59, 27, 27, 26, 82, 27, 14, 26, 31,  1, 26, 27, 59, 60, 82, 61, 14,\n",
            "       60, 59,  1, 61, 60, 60, 14, 82,  2,  0, 59, 26, 26, 14,  1, 29, 30,\n",
            "       31, 26, 82, 59, 14, 61, 60,  1, 59, 27, 27, 26, 82, 27, 14, 26, 31,\n",
            "        1, 26, 27, 59, 27, 82, 26, 31, 30, 32,  1, 31, 29, 29, 22, 82,  2,\n",
            "        0, 60, 82, 61, 56, 56, 61,  1, 56, 61, 59, 61, 82, 62, 61, 60, 59,\n",
            "        1, 58, 59, 60, 61, 82, 62, 14, 62, 61,  1, 62, 57, 56, 62]), array([82, 32, 15,  1, 31, 15, 82, 29, 31, 26,  1, 26, 31, 29, 82,  2,  0,\n",
            "       32, 15,  1, 31, 15, 82, 30, 14, 27,  1, 27, 26, 27, 82, 32, 26, 27,\n",
            "        1, 59, 27, 32, 82, 26, 27, 32,  1, 31, 30, 29, 22, 82,  2,  0, 32,\n",
            "       26, 27,  1, 59, 14, 59, 82, 60, 59, 27,  1, 59, 27, 26, 82, 32, 26,\n",
            "       27,  1, 59, 27, 32, 82, 26, 27, 32,  1, 31, 30, 29, 82,  2,  0, 32,\n",
            "       26, 27,  1, 59, 14, 59, 82, 60, 59, 27,  1, 59, 60, 61, 82]), array([ 1, 70, 61,  1, 45, 60, 56,  0, 51, 22,  1, 64, 59, 22, 59, 58,  9,\n",
            "       73, 60, 60, 67,  9, 17, 16,  0, 38, 22, 28,  0, 37, 22, 13, 11, 20,\n",
            "        0, 36, 22, 30,  1, 29, 70, 73, 64, 56, 69,  0, 26, 82, 27, 26, 32,\n",
            "       31,  1, 32, 30, 30, 31, 82, 32, 30, 27, 30,  1, 32, 30, 30, 26, 82,\n",
            "       27, 26, 32, 31,  1, 32, 30, 30, 32, 82, 31, 29, 26, 32,  1, 31, 29,\n",
            "       29, 26, 82,  2,  0, 27, 26, 32, 31,  1, 32, 30, 30, 31, 82]), array([61, 15,  1, 62, 15, 82, 60, 59, 58,  1, 59, 15, 22, 82,  2,  0, 61,\n",
            "       56, 56,  1, 56, 62, 61, 82, 60, 61, 62,  1, 60, 61, 62, 82, 61, 15,\n",
            "        1, 62, 15, 82, 60, 58, 26,  1, 32, 31, 30, 82,  2,  0, 29, 31, 26,\n",
            "        1, 59, 58, 59, 82, 60, 58, 26,  1, 58, 59, 60, 82, 61, 15,  1, 62,\n",
            "       15, 82, 60, 59, 58,  1, 59, 15, 22, 82,  2,  0,  0, 49, 22, 13, 17,\n",
            "       17,  0, 45, 22, 45, 70, 68,  1, 27, 64, 67, 67, 80,  5, 74]), array([61, 62,  1, 60, 59, 58, 27, 82, 58, 60, 59, 27,  1, 26, 14, 27, 58,\n",
            "       82,  2,  0, 59, 62, 62, 61,  1, 62, 14, 61, 60, 82, 59, 60, 59, 58,\n",
            "        1, 27, 14, 26, 32, 82, 26, 27, 58, 26,  1, 59, 58, 26, 31, 82, 32,\n",
            "       14, 32, 31,  1, 32, 14, 22, 82,  2,  0, 27, 58, 82, 59, 62, 62, 61,\n",
            "        1, 62, 14, 61, 60, 82, 59, 60, 59, 58,  1, 27, 14, 26, 32, 82, 26,\n",
            "       27, 58, 26,  1, 60, 59, 58, 27, 82, 26, 59, 59, 54, 58,  1]), array([82, 59, 60, 61, 62,  1, 56, 61, 59, 27, 82, 58, 59, 60, 61,  1, 62,\n",
            "       60, 58, 26, 82, 59, 60, 61, 62,  1, 56, 61, 59, 61, 82, 62, 14, 56,\n",
            "       62,  1, 61, 59, 59, 61, 82,  2,  0, 56, 61, 59, 61,  1, 56, 61, 59,\n",
            "       61, 82, 62, 60, 58, 60, 82, 62, 60, 58, 60, 82, 59, 60, 61, 62,  1,\n",
            "       56, 15, 61, 82, 62, 14, 56, 62,  1, 61, 59, 59, 22, 82,  2,  0,  0,\n",
            "       49, 22, 17, 15,  0, 45, 22, 28, 73, 56, 64, 62,  5, 74,  1]), array([ 2,  0,  0, 49, 22, 13, 16,  0, 45, 22, 27, 67, 56, 58, 66, 57, 64,\n",
            "       73, 59,  0, 51, 22,  1, 64, 59, 22, 59, 58,  9, 73, 60, 60, 67,  9,\n",
            "       13, 17,  0, 38, 22, 28,  0, 37, 22, 13, 11, 20,  0, 36, 22, 29,  1,\n",
            "       38, 64, 79, 70, 67, 80, 59, 64, 56, 69,  0, 32, 26, 82, 27, 14, 58,\n",
            "       27,  1, 26, 14, 27, 54, 58, 82, 59, 14, 26, 32,  1, 31, 14, 29, 30,\n",
            "       82, 31, 32, 26, 31,  1, 32, 58, 26, 32, 82, 31, 14, 29, 14]), array([31, 31, 14,  1, 32, 31, 30, 31, 82, 29, 14, 31, 26,  1, 59, 26, 27,\n",
            "       32, 82, 31, 14, 26, 31,  1, 32, 31, 32, 27, 82, 26, 31, 29, 27,  8,\n",
            "        1, 26,  8, 27,  8, 28, 30, 82,  2,  0, 29, 31, 31, 14,  1, 32, 31,\n",
            "       30, 31, 82, 29, 14, 31, 26,  1, 59, 26, 27, 32, 82, 31, 14, 26, 31,\n",
            "        1, 32, 31, 32, 27, 82, 26, 31, 30, 32,  1, 31, 29, 29, 14, 22, 82,\n",
            "        2,  0, 61, 59, 59, 14,  1, 62, 14, 56, 62, 82, 61, 59, 59])]\n",
            "Input shape:       (32, 100)  # (batch_size, sequence_length)\n",
            "Prediction shape:  (32, 100, 83) # (batch_size, sequence_length, vocab_size)\n"
          ]
        }
      ],
      "source": [
        "x, y = get_batch(vectorized_songs, seq_length=100, batch_size=32)\n",
        "pred = model(x)\n",
        "print(\"Input shape:      \", x.shape, \" # (batch_size, sequence_length)\")\n",
        "print(\"Prediction shape: \", pred.shape, \"# (batch_size, sequence_length, vocab_size)\")"
      ]
    },
    {
      "cell_type": "markdown",
      "metadata": {
        "id": "mT1HvFVUGpoE"
      },
      "source": [
        "### Predictions from the untrained model\n",
        "\n",
        "Let's take a look at what our untrained model is predicting.\n",
        "\n",
        "To get actual predictions from the model, we sample from the output distribution, which is defined by a `softmax` over our character vocabulary. This will give us actual character indices. This means we are using a [categorical distribution](https://en.wikipedia.org/wiki/Categorical_distribution) to sample over the example prediction. This gives a prediction of the next character (specifically its index) at each timestep.\n",
        "\n",
        "Note here that we sample from this probability distribution, as opposed to simply taking the `argmax`, which can cause the model to get stuck in a loop.\n",
        "\n",
        "Let's try this sampling out for the first example in the batch."
      ]
    },
    {
      "cell_type": "code",
      "execution_count": 98,
      "metadata": {
        "id": "4V4MfFg0RQJg"
      },
      "outputs": [
        {
          "data": {
            "text/plain": [
              "array([32, 22, 72, 42, 16, 55, 37, 19, 34, 69, 17, 56, 57, 82,  1, 75, 67,\n",
              "       22, 18, 53, 18, 27, 51, 11, 17,  2, 76, 15, 24, 58, 78, 43, 42, 53,\n",
              "       16, 81, 32, 76, 58, 74, 81,  2,  4, 41, 41, 25, 80, 41, 18, 25, 15,\n",
              "        9, 14, 56, 77, 72, 23,  7, 61, 71, 63, 15, 63, 36, 32, 78, 56, 70,\n",
              "       53, 66, 22, 49, 28, 16, 50, 61,  7, 28, 20, 80, 60, 22,  1, 11,  3,\n",
              "       16, 65, 23, 15, 82, 81, 38, 12, 26, 30, 45,  1, 82, 71, 40])"
            ]
          },
          "execution_count": 98,
          "metadata": {},
          "output_type": "execute_result"
        }
      ],
      "source": [
        "sampled_indices = tf.random.categorical(pred[0], num_samples=1)\n",
        "sampled_indices = tf.squeeze(sampled_indices,axis=-1).numpy()\n",
        "sampled_indices"
      ]
    },
    {
      "cell_type": "markdown",
      "metadata": {
        "id": "LfLtsP3mUhCG"
      },
      "source": [
        "We can now decode these to see the text predicted by the untrained model:"
      ]
    },
    {
      "cell_type": "code",
      "execution_count": 99,
      "metadata": {
        "id": "xWcFwPwLSo05"
      },
      "outputs": [
        {
          "name": "stdout",
          "output_type": "stream",
          "text": [
            "Input: \n",
            " '2 CDFG|AFF2 GABG|!\\nAdcA G2AG|F2GF DGFD|CA,A,2 CDFG|AcGE F:|!\\nGAB|c2Ac BAGE|F2AF GFDF|CFF2 dFcF|BAGF '\n",
            "\n",
            "Next Char Predictions: \n",
            " 'G:qQ4_L7In5ab| tl:6]6BZ/5!u3=cwRQ]4zGucsz!#PP>yP6>3-2avq<)fph3hKGwao]k:XC4Yf)C8ye: /\"4j<3|zM0AET |pO'\n"
          ]
        }
      ],
      "source": [
        "print(\"Input: \\n\", repr(\"\".join(idx2char[x[0]])))\n",
        "print()\n",
        "print(\"Next Char Predictions: \\n\", repr(\"\".join(idx2char[sampled_indices])))"
      ]
    },
    {
      "cell_type": "markdown",
      "metadata": {
        "id": "HEHHcRasIDm9"
      },
      "source": [
        "As you can see, the text predicted by the untrained model is pretty nonsensical! How can we do better? We can train the network!"
      ]
    },
    {
      "cell_type": "markdown",
      "metadata": {
        "id": "LJL0Q0YPY6Ee"
      },
      "source": [
        "## 2.5 Training the model: loss and training operations\n",
        "\n",
        "Now it's time to train the model!\n",
        "\n",
        "At this point, we can think of our next character prediction problem as a standard classification problem. Given the previous state of the RNN, as well as the input at a given time step, we want to predict the class of the next character -- that is, to actually predict the next character.\n",
        "\n",
        "To train our model on this classification task, we can use a form of the `crossentropy` loss (negative log likelihood loss). Specifically, we will use the [`sparse_categorical_crossentropy`](https://www.tensorflow.org/api_docs/python/tf/keras/losses/sparse_categorical_crossentropy) loss, as it utilizes integer targets for categorical classification tasks. We will want to compute the loss using the true targets -- the `labels` -- and the predicted targets -- the `logits`.\n",
        "\n",
        "Let's first compute the loss using our example predictions from the untrained model:"
      ]
    },
    {
      "cell_type": "code",
      "execution_count": 100,
      "metadata": {
        "id": "4HrXTACTdzY-"
      },
      "outputs": [
        {
          "name": "stdout",
          "output_type": "stream",
          "text": [
            "Prediction shape:  (32, 100, 83)  # (batch_size, sequence_length, vocab_size)\n",
            "scalar_loss:       4.420312\n"
          ]
        }
      ],
      "source": [
        "### Defining the loss function ###\n",
        "\n",
        "'''TODO: define the loss function to compute and return the loss between\n",
        "    the true labels and predictions (logits). Set the argument from_logits=True.'''\n",
        "def compute_loss(labels, logits):\n",
        "  loss = tf.keras.losses.sparse_categorical_crossentropy(labels, logits, from_logits=True) # TODO\n",
        "  return loss\n",
        "\n",
        "'''TODO: compute the loss using the true next characters from the example batch\n",
        "    and the predictions from the untrained model several cells above'''\n",
        "example_batch_loss = compute_loss(x, pred) # TODO\n",
        "\n",
        "print(\"Prediction shape: \", pred.shape, \" # (batch_size, sequence_length, vocab_size)\")\n",
        "print(\"scalar_loss:      \", example_batch_loss.numpy().mean())"
      ]
    },
    {
      "cell_type": "markdown",
      "metadata": {
        "id": "0Seh7e6eRqd7"
      },
      "source": [
        "Let's start by defining some hyperparameters for training the model. To start, we have provided some reasonable values for some of the parameters. It is up to you to use what we've learned in class to help optimize the parameter selection here!"
      ]
    },
    {
      "cell_type": "code",
      "execution_count": 101,
      "metadata": {
        "id": "JQWUUhKotkAY"
      },
      "outputs": [],
      "source": [
        "### Hyperparameter setting and optimization ###\n",
        "\n",
        "vocab_size = len(vocab)\n",
        "\n",
        "# Model parameters:\n",
        "params = dict(\n",
        "  num_training_iterations = 3000,  # Increase this to train longer\n",
        "  batch_size = 8,  # Experiment between 1 and 64\n",
        "  seq_length = 100,  # Experiment between 50 and 500\n",
        "  learning_rate = 5e-3,  # Experiment between 1e-5 and 1e-1\n",
        "  embedding_dim = 256,\n",
        "  rnn_units = 1024,  # Experiment between 1 and 2048\n",
        ")\n",
        "\n",
        "# Checkpoint location:\n",
        "checkpoint_dir = './training_checkpoints'\n",
        "checkpoint_prefix = os.path.join(checkpoint_dir, \"my_ckpt\")"
      ]
    },
    {
      "cell_type": "markdown",
      "metadata": {
        "id": "AyLzIPeAIqfg"
      },
      "source": [
        "Having defined our hyperparameters we can set up for experiment tracking with Comet. [`Experiment`](https://www.comet.com/docs/v2/api-and-sdk/python-sdk/reference/Experiment/) are the core objects in Comet and will allow us to track training and model development. Here we have written a short function to create a new comet experiment. Note that in this setup, when hyperparameters change, you can run the `create_experiment()` function to initiate a new experiment. All experiments defined with the same `project_name` will live under that project in your Comet interface.\n",
        "\n"
      ]
    },
    {
      "cell_type": "code",
      "execution_count": 75,
      "metadata": {
        "id": "MBsN1vvxInmN"
      },
      "outputs": [],
      "source": [
        "### Create a Comet experiment to track our training run ###\n",
        "\n",
        "def create_experiment():\n",
        "  # end any prior experiments\n",
        "  if 'experiment' in locals():\n",
        "    experiment.end()\n",
        "\n",
        "  # initiate the comet experiment for tracking\n",
        "  experiment = comet_ml.Experiment(\n",
        "                  api_key=COMET_API_KEY,\n",
        "                  project_name=\"6S191_Lab1_Part2\")\n",
        "  # log our hyperparameters, defined above, to the experiment\n",
        "  for param, value in params.items():\n",
        "    experiment.log_parameter(param, value)\n",
        "  experiment.flush()\n",
        "\n",
        "  return experiment"
      ]
    },
    {
      "cell_type": "markdown",
      "metadata": {
        "id": "5cu11p1MKYZd"
      },
      "source": [
        "Now, we are ready to define our training operation -- the optimizer and duration of training -- and use this function to train the model. You will experiment with the choice of optimizer and the duration for which you train your models, and see how these changes affect the network's output. Some optimizers you may like to try are [`Adam`](https://www.tensorflow.org/api_docs/python/tf/keras/optimizers/Adam?version=stable) and [`Adagrad`](https://www.tensorflow.org/api_docs/python/tf/keras/optimizers/Adagrad?version=stable).\n",
        "\n",
        "First, we will instantiate a new model and an optimizer. Then, we will use the [`tf.GradientTape`](https://www.tensorflow.org/api_docs/python/tf/GradientTape) method to perform the backpropagation operations.\n",
        "\n",
        "We will also generate a print-out of the model's progress through training, which will help us easily visualize whether or not we are minimizing the loss."
      ]
    },
    {
      "cell_type": "code",
      "execution_count": 103,
      "metadata": {
        "id": "F31vzJ_u66cb"
      },
      "outputs": [
        {
          "data": {
            "image/png": "[encoded data removed]",
            "text/plain": [
              "<Figure size 640x480 with 1 Axes>"
            ]
          },
          "metadata": {},
          "output_type": "display_data"
        },
        {
          "name": "stderr",
          "output_type": "stream",
          "text": [
            " 21%|██▏       | 638/3000 [06:04<16:12,  2.43it/s]"
          ]
        },
        {
          "name": "stdout",
          "output_type": "stream",
          "text": [
            "[array([22, 17, 17,  0, 45, 22, 44, 71, 60, 67, 67,  1, 70, 69,  1, 75, 63,\n",
            "       60,  1, 31, 64, 59, 59, 67, 60, 73,  0, 51, 22,  1, 64, 59, 22, 59,\n",
            "       58,  9, 63, 70, 73, 69, 71, 64, 71, 60,  9, 18, 19,  0, 38, 22, 28,\n",
            "       82,  0, 37, 22, 13, 11, 20,  0, 36, 22, 32,  1, 38, 56, 65, 70, 73,\n",
            "        0,  6, 15, 29, 30, 31, 82, 32, 29, 27, 32,  1, 59, 27, 62, 59, 82,\n",
            "       57, 62, 59, 27,  1, 58, 27, 26, 32, 82, 31, 59, 54, 58, 59]), array([58, 82,  2,  0, 59, 26, 31, 26,  1, 29, 31, 26, 59, 82, 61, 59, 58,\n",
            "       59,  1, 31, 26, 59, 61, 82, 62, 61, 62, 60,  1, 61, 60, 61, 59, 82,\n",
            "        6, 15, 60, 61, 60,  1, 59, 58,  1, 59, 14, 22, 82,  2,  0, 26, 32,\n",
            "       82, 31, 26, 59, 26,  1, 31, 26, 59, 26, 82, 32, 27, 59, 27,  1, 32,\n",
            "       27, 59, 27, 82, 26, 58, 60, 58,  1, 26, 58, 60, 58, 82, 59, 61, 56,\n",
            "       61,  1, 62, 60, 58, 26, 82,  2,  0, 31, 26, 59, 26,  1, 31]), array([14, 32, 31,  1, 32, 14, 22, 82,  2,  0, 27, 58, 82, 59, 62, 62, 61,\n",
            "        1, 62, 14, 61, 60, 82, 59, 60, 59, 58,  1, 27, 14, 26, 32, 82, 26,\n",
            "       27, 58, 26,  1, 60, 59, 58, 27, 82, 26, 59, 59, 54, 58,  1, 59, 14,\n",
            "       27, 24, 58, 82,  2,  0, 59, 62, 62, 61,  1, 62, 14, 61, 60, 82, 59,\n",
            "       60, 59, 58,  1, 27, 14, 26, 32, 82, 26, 27, 58, 26,  1, 59, 58, 26,\n",
            "       31, 82, 32, 14, 32, 31,  1, 32, 14, 22, 82,  2,  0,  0, 49]), array([11, 20,  0, 37, 22, 13, 11, 20,  0, 36, 22, 29,  1, 38, 56, 65, 70,\n",
            "       73,  0, 26, 82, 31, 26, 31,  1, 30, 31, 30, 82, 29, 31, 26,  1, 59,\n",
            "       14, 26, 82, 59, 60, 59,  1, 58, 26, 32, 82, 31, 26, 31,  1, 32, 30,\n",
            "       29, 82,  2,  0, 31, 26, 31,  1, 30, 31, 30, 82, 29, 31, 26,  1, 59,\n",
            "       60, 61, 82, 60, 59, 58,  1, 26, 27, 58, 82, 59, 61, 60,  1, 59, 14,\n",
            "       22, 82,  2,  0, 60, 82, 61, 14, 56,  1, 62, 14, 60, 82, 61]), array([ 0, 49, 22, 13, 14, 18,  0, 45, 22, 43, 56, 66, 60, 74,  1, 70, 61,\n",
            "        1, 28, 67, 70, 69, 68, 60, 67,  0, 51, 22,  1, 64, 59, 22, 59, 58,\n",
            "        9, 65, 64, 62,  9, 13, 18, 15,  0, 38, 22, 18, 11, 20,  0, 37, 22,\n",
            "       13, 11, 20,  0, 36, 22, 26,  1, 29, 70, 73, 64, 56, 69,  0, 27, 82,\n",
            "       58, 27, 26,  1, 32, 30, 29, 82, 30, 26, 26,  1, 26, 14, 27, 82, 58,\n",
            "       27, 26,  1, 60, 59, 58, 82, 27, 32, 32,  1, 32, 60, 61, 82]), array([15, 82, 29, 15,  1, 29, 15, 82, 58, 15,  1, 58, 15, 82, 29, 15,  1,\n",
            "       29, 15, 82,  2,  0, 32, 14, 29,  1, 32, 14, 26, 82, 27, 14, 26,  1,\n",
            "       27, 14, 58, 82, 59, 14, 29,  1, 29, 30, 31, 82, 32, 15,  9, 32, 22,\n",
            "       82,  2,  0,  0, 49, 22, 13,  0, 45, 22, 27, 67, 64, 69, 59,  1, 38,\n",
            "       56, 73, 80,  0, 51, 22,  1, 64, 59, 22, 59, 58,  9, 70, 58, 56, 73,\n",
            "       70, 67, 56, 69,  9, 13, 18,  0, 38, 22, 14, 11, 16,  0, 37]), array([62, 61, 62, 82, 60, 58, 60,  1, 62, 61, 60, 82,  2,  0, 52, 13,  1,\n",
            "       26, 59, 59,  1, 61, 59, 59, 82, 56, 59, 59,  1, 61, 59, 59, 82, 61,\n",
            "       59, 27,  1, 26, 32, 31, 82, 32, 30, 31,  1, 32, 31, 22, 82,  2,  0,\n",
            "       52, 14,  1, 56, 61, 56,  1, 57, 62, 57, 82, 56, 61, 56,  1, 62, 61,\n",
            "       60, 82, 61, 59, 27,  1, 26, 32, 31, 82, 32, 30, 31,  1, 32, 31, 82,\n",
            "       53,  2,  0, 30, 82, 26, 15,  1, 26, 32, 31, 82, 26, 32, 31]), array([56, 61, 82, 62, 61, 60, 58,  1, 59, 58, 27, 26, 82, 59, 61, 56, 61,\n",
            "        1, 57, 62, 60, 58, 82, 59, 14, 59, 58,  1, 59, 14, 22, 82,  2,  0,\n",
            "        0, 49, 22, 15, 21,  0, 45, 22, 38, 56, 69, 58, 63, 60, 74, 75, 60,\n",
            "       73,  0, 51, 22,  1, 64, 59, 22, 59, 58,  9, 63, 70, 73, 69, 71, 64,\n",
            "       71, 60,  9, 15, 17,  0, 38, 22, 28, 82,  0, 37, 22, 13, 11, 20,  0,\n",
            "       36, 22, 29,  1, 38, 56, 65, 70, 73,  0,  6, 15, 26, 27, 58])]\n",
            "[array([17, 17,  0, 45, 22, 44, 71, 60, 67, 67,  1, 70, 69,  1, 75, 63, 60,\n",
            "        1, 31, 64, 59, 59, 67, 60, 73,  0, 51, 22,  1, 64, 59, 22, 59, 58,\n",
            "        9, 63, 70, 73, 69, 71, 64, 71, 60,  9, 18, 19,  0, 38, 22, 28, 82,\n",
            "        0, 37, 22, 13, 11, 20,  0, 36, 22, 32,  1, 38, 56, 65, 70, 73,  0,\n",
            "        6, 15, 29, 30, 31, 82, 32, 29, 27, 32,  1, 59, 27, 62, 59, 82, 57,\n",
            "       62, 59, 27,  1, 58, 27, 26, 32, 82, 31, 59, 54, 58, 59,  1]), array([82,  2,  0, 59, 26, 31, 26,  1, 29, 31, 26, 59, 82, 61, 59, 58, 59,\n",
            "        1, 31, 26, 59, 61, 82, 62, 61, 62, 60,  1, 61, 60, 61, 59, 82,  6,\n",
            "       15, 60, 61, 60,  1, 59, 58,  1, 59, 14, 22, 82,  2,  0, 26, 32, 82,\n",
            "       31, 26, 59, 26,  1, 31, 26, 59, 26, 82, 32, 27, 59, 27,  1, 32, 27,\n",
            "       59, 27, 82, 26, 58, 60, 58,  1, 26, 58, 60, 58, 82, 59, 61, 56, 61,\n",
            "        1, 62, 60, 58, 26, 82,  2,  0, 31, 26, 59, 26,  1, 31, 26]), array([32, 31,  1, 32, 14, 22, 82,  2,  0, 27, 58, 82, 59, 62, 62, 61,  1,\n",
            "       62, 14, 61, 60, 82, 59, 60, 59, 58,  1, 27, 14, 26, 32, 82, 26, 27,\n",
            "       58, 26,  1, 60, 59, 58, 27, 82, 26, 59, 59, 54, 58,  1, 59, 14, 27,\n",
            "       24, 58, 82,  2,  0, 59, 62, 62, 61,  1, 62, 14, 61, 60, 82, 59, 60,\n",
            "       59, 58,  1, 27, 14, 26, 32, 82, 26, 27, 58, 26,  1, 59, 58, 26, 31,\n",
            "       82, 32, 14, 32, 31,  1, 32, 14, 22, 82,  2,  0,  0, 49, 22]), array([20,  0, 37, 22, 13, 11, 20,  0, 36, 22, 29,  1, 38, 56, 65, 70, 73,\n",
            "        0, 26, 82, 31, 26, 31,  1, 30, 31, 30, 82, 29, 31, 26,  1, 59, 14,\n",
            "       26, 82, 59, 60, 59,  1, 58, 26, 32, 82, 31, 26, 31,  1, 32, 30, 29,\n",
            "       82,  2,  0, 31, 26, 31,  1, 30, 31, 30, 82, 29, 31, 26,  1, 59, 60,\n",
            "       61, 82, 60, 59, 58,  1, 26, 27, 58, 82, 59, 61, 60,  1, 59, 14, 22,\n",
            "       82,  2,  0, 60, 82, 61, 14, 56,  1, 62, 14, 60, 82, 61, 59]), array([49, 22, 13, 14, 18,  0, 45, 22, 43, 56, 66, 60, 74,  1, 70, 61,  1,\n",
            "       28, 67, 70, 69, 68, 60, 67,  0, 51, 22,  1, 64, 59, 22, 59, 58,  9,\n",
            "       65, 64, 62,  9, 13, 18, 15,  0, 38, 22, 18, 11, 20,  0, 37, 22, 13,\n",
            "       11, 20,  0, 36, 22, 26,  1, 29, 70, 73, 64, 56, 69,  0, 27, 82, 58,\n",
            "       27, 26,  1, 32, 30, 29, 82, 30, 26, 26,  1, 26, 14, 27, 82, 58, 27,\n",
            "       26,  1, 60, 59, 58, 82, 27, 32, 32,  1, 32, 60, 61, 82,  2]), array([82, 29, 15,  1, 29, 15, 82, 58, 15,  1, 58, 15, 82, 29, 15,  1, 29,\n",
            "       15, 82,  2,  0, 32, 14, 29,  1, 32, 14, 26, 82, 27, 14, 26,  1, 27,\n",
            "       14, 58, 82, 59, 14, 29,  1, 29, 30, 31, 82, 32, 15,  9, 32, 22, 82,\n",
            "        2,  0,  0, 49, 22, 13,  0, 45, 22, 27, 67, 64, 69, 59,  1, 38, 56,\n",
            "       73, 80,  0, 51, 22,  1, 64, 59, 22, 59, 58,  9, 70, 58, 56, 73, 70,\n",
            "       67, 56, 69,  9, 13, 18,  0, 38, 22, 14, 11, 16,  0, 37, 22]), array([61, 62, 82, 60, 58, 60,  1, 62, 61, 60, 82,  2,  0, 52, 13,  1, 26,\n",
            "       59, 59,  1, 61, 59, 59, 82, 56, 59, 59,  1, 61, 59, 59, 82, 61, 59,\n",
            "       27,  1, 26, 32, 31, 82, 32, 30, 31,  1, 32, 31, 22, 82,  2,  0, 52,\n",
            "       14,  1, 56, 61, 56,  1, 57, 62, 57, 82, 56, 61, 56,  1, 62, 61, 60,\n",
            "       82, 61, 59, 27,  1, 26, 32, 31, 82, 32, 30, 31,  1, 32, 31, 82, 53,\n",
            "        2,  0, 30, 82, 26, 15,  1, 26, 32, 31, 82, 26, 32, 31,  1]), array([61, 82, 62, 61, 60, 58,  1, 59, 58, 27, 26, 82, 59, 61, 56, 61,  1,\n",
            "       57, 62, 60, 58, 82, 59, 14, 59, 58,  1, 59, 14, 22, 82,  2,  0,  0,\n",
            "       49, 22, 15, 21,  0, 45, 22, 38, 56, 69, 58, 63, 60, 74, 75, 60, 73,\n",
            "        0, 51, 22,  1, 64, 59, 22, 59, 58,  9, 63, 70, 73, 69, 71, 64, 71,\n",
            "       60,  9, 15, 17,  0, 38, 22, 28, 82,  0, 37, 22, 13, 11, 20,  0, 36,\n",
            "       22, 29,  1, 38, 56, 65, 70, 73,  0,  6, 15, 26, 27, 58, 82])]\n"
          ]
        },
        {
          "name": "stderr",
          "output_type": "stream",
          "text": [
            " 21%|██▏       | 638/3000 [06:04<22:30,  1.75it/s]\n"
          ]
        },
        {
          "ename": "KeyboardInterrupt",
          "evalue": "",
          "output_type": "error",
          "traceback": [
            "\u001b[0;31m---------------------------------------------------------------------------\u001b[0m",
            "\u001b[0;31mKeyboardInterrupt\u001b[0m                         Traceback (most recent call last)",
            "Cell \u001b[0;32mIn[103], line 52\u001b[0m\n\u001b[1;32m     48\u001b[0m \u001b[38;5;28;01mfor\u001b[39;00m \u001b[38;5;28miter\u001b[39m \u001b[38;5;129;01min\u001b[39;00m tqdm(\u001b[38;5;28mrange\u001b[39m(params[\u001b[38;5;124m\"\u001b[39m\u001b[38;5;124mnum_training_iterations\u001b[39m\u001b[38;5;124m\"\u001b[39m])):\n\u001b[1;32m     49\u001b[0m \n\u001b[1;32m     50\u001b[0m   \u001b[38;5;66;03m# Grab a batch and propagate it through the network\u001b[39;00m\n\u001b[1;32m     51\u001b[0m   x_batch, y_batch \u001b[38;5;241m=\u001b[39m get_batch(vectorized_songs, params[\u001b[38;5;124m\"\u001b[39m\u001b[38;5;124mseq_length\u001b[39m\u001b[38;5;124m\"\u001b[39m], params[\u001b[38;5;124m\"\u001b[39m\u001b[38;5;124mbatch_size\u001b[39m\u001b[38;5;124m\"\u001b[39m])\n\u001b[0;32m---> 52\u001b[0m   loss \u001b[38;5;241m=\u001b[39m \u001b[43mtrain_step\u001b[49m\u001b[43m(\u001b[49m\u001b[43mx_batch\u001b[49m\u001b[43m,\u001b[49m\u001b[43m \u001b[49m\u001b[43my_batch\u001b[49m\u001b[43m)\u001b[49m\n\u001b[1;32m     54\u001b[0m   \u001b[38;5;66;03m# log the loss to the Comet interface! we will be able to track it there.\u001b[39;00m\n\u001b[1;32m     55\u001b[0m   experiment\u001b[38;5;241m.\u001b[39mlog_metric(\u001b[38;5;124m\"\u001b[39m\u001b[38;5;124mloss\u001b[39m\u001b[38;5;124m\"\u001b[39m, loss\u001b[38;5;241m.\u001b[39mnumpy()\u001b[38;5;241m.\u001b[39mmean(), step\u001b[38;5;241m=\u001b[39m\u001b[38;5;28miter\u001b[39m)\n",
            "File \u001b[0;32m~/miniconda3/lib/python3.11/site-packages/tensorflow/python/util/traceback_utils.py:150\u001b[0m, in \u001b[0;36mfilter_traceback.<locals>.error_handler\u001b[0;34m(*args, **kwargs)\u001b[0m\n\u001b[1;32m    148\u001b[0m filtered_tb \u001b[38;5;241m=\u001b[39m \u001b[38;5;28;01mNone\u001b[39;00m\n\u001b[1;32m    149\u001b[0m \u001b[38;5;28;01mtry\u001b[39;00m:\n\u001b[0;32m--> 150\u001b[0m   \u001b[38;5;28;01mreturn\u001b[39;00m \u001b[43mfn\u001b[49m\u001b[43m(\u001b[49m\u001b[38;5;241;43m*\u001b[39;49m\u001b[43margs\u001b[49m\u001b[43m,\u001b[49m\u001b[43m \u001b[49m\u001b[38;5;241;43m*\u001b[39;49m\u001b[38;5;241;43m*\u001b[39;49m\u001b[43mkwargs\u001b[49m\u001b[43m)\u001b[49m\n\u001b[1;32m    151\u001b[0m \u001b[38;5;28;01mexcept\u001b[39;00m \u001b[38;5;167;01mException\u001b[39;00m \u001b[38;5;28;01mas\u001b[39;00m e:\n\u001b[1;32m    152\u001b[0m   filtered_tb \u001b[38;5;241m=\u001b[39m _process_traceback_frames(e\u001b[38;5;241m.\u001b[39m__traceback__)\n",
            "File \u001b[0;32m~/miniconda3/lib/python3.11/site-packages/tensorflow/python/eager/polymorphic_function/polymorphic_function.py:832\u001b[0m, in \u001b[0;36mFunction.__call__\u001b[0;34m(self, *args, **kwds)\u001b[0m\n\u001b[1;32m    829\u001b[0m compiler \u001b[38;5;241m=\u001b[39m \u001b[38;5;124m\"\u001b[39m\u001b[38;5;124mxla\u001b[39m\u001b[38;5;124m\"\u001b[39m \u001b[38;5;28;01mif\u001b[39;00m \u001b[38;5;28mself\u001b[39m\u001b[38;5;241m.\u001b[39m_jit_compile \u001b[38;5;28;01melse\u001b[39;00m \u001b[38;5;124m\"\u001b[39m\u001b[38;5;124mnonXla\u001b[39m\u001b[38;5;124m\"\u001b[39m\n\u001b[1;32m    831\u001b[0m \u001b[38;5;28;01mwith\u001b[39;00m OptionalXlaContext(\u001b[38;5;28mself\u001b[39m\u001b[38;5;241m.\u001b[39m_jit_compile):\n\u001b[0;32m--> 832\u001b[0m   result \u001b[38;5;241m=\u001b[39m \u001b[38;5;28;43mself\u001b[39;49m\u001b[38;5;241;43m.\u001b[39;49m\u001b[43m_call\u001b[49m\u001b[43m(\u001b[49m\u001b[38;5;241;43m*\u001b[39;49m\u001b[43margs\u001b[49m\u001b[43m,\u001b[49m\u001b[43m \u001b[49m\u001b[38;5;241;43m*\u001b[39;49m\u001b[38;5;241;43m*\u001b[39;49m\u001b[43mkwds\u001b[49m\u001b[43m)\u001b[49m\n\u001b[1;32m    834\u001b[0m new_tracing_count \u001b[38;5;241m=\u001b[39m \u001b[38;5;28mself\u001b[39m\u001b[38;5;241m.\u001b[39mexperimental_get_tracing_count()\n\u001b[1;32m    835\u001b[0m without_tracing \u001b[38;5;241m=\u001b[39m (tracing_count \u001b[38;5;241m==\u001b[39m new_tracing_count)\n",
            "File \u001b[0;32m~/miniconda3/lib/python3.11/site-packages/tensorflow/python/eager/polymorphic_function/polymorphic_function.py:868\u001b[0m, in \u001b[0;36mFunction._call\u001b[0;34m(self, *args, **kwds)\u001b[0m\n\u001b[1;32m    865\u001b[0m   \u001b[38;5;28mself\u001b[39m\u001b[38;5;241m.\u001b[39m_lock\u001b[38;5;241m.\u001b[39mrelease()\n\u001b[1;32m    866\u001b[0m   \u001b[38;5;66;03m# In this case we have created variables on the first call, so we run the\u001b[39;00m\n\u001b[1;32m    867\u001b[0m   \u001b[38;5;66;03m# defunned version which is guaranteed to never create variables.\u001b[39;00m\n\u001b[0;32m--> 868\u001b[0m   \u001b[38;5;28;01mreturn\u001b[39;00m \u001b[43mtracing_compilation\u001b[49m\u001b[38;5;241;43m.\u001b[39;49m\u001b[43mcall_function\u001b[49m\u001b[43m(\u001b[49m\n\u001b[1;32m    869\u001b[0m \u001b[43m      \u001b[49m\u001b[43margs\u001b[49m\u001b[43m,\u001b[49m\u001b[43m \u001b[49m\u001b[43mkwds\u001b[49m\u001b[43m,\u001b[49m\u001b[43m \u001b[49m\u001b[38;5;28;43mself\u001b[39;49m\u001b[38;5;241;43m.\u001b[39;49m\u001b[43m_no_variable_creation_config\u001b[49m\n\u001b[1;32m    870\u001b[0m \u001b[43m  \u001b[49m\u001b[43m)\u001b[49m\n\u001b[1;32m    871\u001b[0m \u001b[38;5;28;01melif\u001b[39;00m \u001b[38;5;28mself\u001b[39m\u001b[38;5;241m.\u001b[39m_variable_creation_config \u001b[38;5;129;01mis\u001b[39;00m \u001b[38;5;129;01mnot\u001b[39;00m \u001b[38;5;28;01mNone\u001b[39;00m:\n\u001b[1;32m    872\u001b[0m   \u001b[38;5;66;03m# Release the lock early so that multiple threads can perform the call\u001b[39;00m\n\u001b[1;32m    873\u001b[0m   \u001b[38;5;66;03m# in parallel.\u001b[39;00m\n\u001b[1;32m    874\u001b[0m   \u001b[38;5;28mself\u001b[39m\u001b[38;5;241m.\u001b[39m_lock\u001b[38;5;241m.\u001b[39mrelease()\n",
            "File \u001b[0;32m~/miniconda3/lib/python3.11/site-packages/tensorflow/python/eager/polymorphic_function/tracing_compilation.py:139\u001b[0m, in \u001b[0;36mcall_function\u001b[0;34m(args, kwargs, tracing_options)\u001b[0m\n\u001b[1;32m    137\u001b[0m bound_args \u001b[38;5;241m=\u001b[39m function\u001b[38;5;241m.\u001b[39mfunction_type\u001b[38;5;241m.\u001b[39mbind(\u001b[38;5;241m*\u001b[39margs, \u001b[38;5;241m*\u001b[39m\u001b[38;5;241m*\u001b[39mkwargs)\n\u001b[1;32m    138\u001b[0m flat_inputs \u001b[38;5;241m=\u001b[39m function\u001b[38;5;241m.\u001b[39mfunction_type\u001b[38;5;241m.\u001b[39munpack_inputs(bound_args)\n\u001b[0;32m--> 139\u001b[0m \u001b[38;5;28;01mreturn\u001b[39;00m \u001b[43mfunction\u001b[49m\u001b[38;5;241;43m.\u001b[39;49m\u001b[43m_call_flat\u001b[49m\u001b[43m(\u001b[49m\u001b[43m  \u001b[49m\u001b[38;5;66;43;03m# pylint: disable=protected-access\u001b[39;49;00m\n\u001b[1;32m    140\u001b[0m \u001b[43m    \u001b[49m\u001b[43mflat_inputs\u001b[49m\u001b[43m,\u001b[49m\u001b[43m \u001b[49m\u001b[43mcaptured_inputs\u001b[49m\u001b[38;5;241;43m=\u001b[39;49m\u001b[43mfunction\u001b[49m\u001b[38;5;241;43m.\u001b[39;49m\u001b[43mcaptured_inputs\u001b[49m\n\u001b[1;32m    141\u001b[0m \u001b[43m\u001b[49m\u001b[43m)\u001b[49m\n",
            "File \u001b[0;32m~/miniconda3/lib/python3.11/site-packages/tensorflow/python/eager/polymorphic_function/concrete_function.py:1323\u001b[0m, in \u001b[0;36mConcreteFunction._call_flat\u001b[0;34m(self, tensor_inputs, captured_inputs)\u001b[0m\n\u001b[1;32m   1319\u001b[0m possible_gradient_type \u001b[38;5;241m=\u001b[39m gradients_util\u001b[38;5;241m.\u001b[39mPossibleTapeGradientTypes(args)\n\u001b[1;32m   1320\u001b[0m \u001b[38;5;28;01mif\u001b[39;00m (possible_gradient_type \u001b[38;5;241m==\u001b[39m gradients_util\u001b[38;5;241m.\u001b[39mPOSSIBLE_GRADIENT_TYPES_NONE\n\u001b[1;32m   1321\u001b[0m     \u001b[38;5;129;01mand\u001b[39;00m executing_eagerly):\n\u001b[1;32m   1322\u001b[0m   \u001b[38;5;66;03m# No tape is watching; skip to running the function.\u001b[39;00m\n\u001b[0;32m-> 1323\u001b[0m   \u001b[38;5;28;01mreturn\u001b[39;00m \u001b[38;5;28;43mself\u001b[39;49m\u001b[38;5;241;43m.\u001b[39;49m\u001b[43m_inference_function\u001b[49m\u001b[38;5;241;43m.\u001b[39;49m\u001b[43mcall_preflattened\u001b[49m\u001b[43m(\u001b[49m\u001b[43margs\u001b[49m\u001b[43m)\u001b[49m\n\u001b[1;32m   1324\u001b[0m forward_backward \u001b[38;5;241m=\u001b[39m \u001b[38;5;28mself\u001b[39m\u001b[38;5;241m.\u001b[39m_select_forward_and_backward_functions(\n\u001b[1;32m   1325\u001b[0m     args,\n\u001b[1;32m   1326\u001b[0m     possible_gradient_type,\n\u001b[1;32m   1327\u001b[0m     executing_eagerly)\n\u001b[1;32m   1328\u001b[0m forward_function, args_with_tangents \u001b[38;5;241m=\u001b[39m forward_backward\u001b[38;5;241m.\u001b[39mforward()\n",
            "File \u001b[0;32m~/miniconda3/lib/python3.11/site-packages/tensorflow/python/eager/polymorphic_function/atomic_function.py:216\u001b[0m, in \u001b[0;36mAtomicFunction.call_preflattened\u001b[0;34m(self, args)\u001b[0m\n\u001b[1;32m    214\u001b[0m \u001b[38;5;28;01mdef\u001b[39;00m \u001b[38;5;21mcall_preflattened\u001b[39m(\u001b[38;5;28mself\u001b[39m, args: Sequence[core\u001b[38;5;241m.\u001b[39mTensor]) \u001b[38;5;241m-\u001b[39m\u001b[38;5;241m>\u001b[39m Any:\n\u001b[1;32m    215\u001b[0m \u001b[38;5;250m  \u001b[39m\u001b[38;5;124;03m\"\"\"Calls with flattened tensor inputs and returns the structured output.\"\"\"\u001b[39;00m\n\u001b[0;32m--> 216\u001b[0m   flat_outputs \u001b[38;5;241m=\u001b[39m \u001b[38;5;28;43mself\u001b[39;49m\u001b[38;5;241;43m.\u001b[39;49m\u001b[43mcall_flat\u001b[49m\u001b[43m(\u001b[49m\u001b[38;5;241;43m*\u001b[39;49m\u001b[43margs\u001b[49m\u001b[43m)\u001b[49m\n\u001b[1;32m    217\u001b[0m   \u001b[38;5;28;01mreturn\u001b[39;00m \u001b[38;5;28mself\u001b[39m\u001b[38;5;241m.\u001b[39mfunction_type\u001b[38;5;241m.\u001b[39mpack_output(flat_outputs)\n",
            "File \u001b[0;32m~/miniconda3/lib/python3.11/site-packages/tensorflow/python/eager/polymorphic_function/atomic_function.py:251\u001b[0m, in \u001b[0;36mAtomicFunction.call_flat\u001b[0;34m(self, *args)\u001b[0m\n\u001b[1;32m    249\u001b[0m \u001b[38;5;28;01mwith\u001b[39;00m record\u001b[38;5;241m.\u001b[39mstop_recording():\n\u001b[1;32m    250\u001b[0m   \u001b[38;5;28;01mif\u001b[39;00m \u001b[38;5;28mself\u001b[39m\u001b[38;5;241m.\u001b[39m_bound_context\u001b[38;5;241m.\u001b[39mexecuting_eagerly():\n\u001b[0;32m--> 251\u001b[0m     outputs \u001b[38;5;241m=\u001b[39m \u001b[38;5;28;43mself\u001b[39;49m\u001b[38;5;241;43m.\u001b[39;49m\u001b[43m_bound_context\u001b[49m\u001b[38;5;241;43m.\u001b[39;49m\u001b[43mcall_function\u001b[49m\u001b[43m(\u001b[49m\n\u001b[1;32m    252\u001b[0m \u001b[43m        \u001b[49m\u001b[38;5;28;43mself\u001b[39;49m\u001b[38;5;241;43m.\u001b[39;49m\u001b[43mname\u001b[49m\u001b[43m,\u001b[49m\n\u001b[1;32m    253\u001b[0m \u001b[43m        \u001b[49m\u001b[38;5;28;43mlist\u001b[39;49m\u001b[43m(\u001b[49m\u001b[43margs\u001b[49m\u001b[43m)\u001b[49m\u001b[43m,\u001b[49m\n\u001b[1;32m    254\u001b[0m \u001b[43m        \u001b[49m\u001b[38;5;28;43mlen\u001b[39;49m\u001b[43m(\u001b[49m\u001b[38;5;28;43mself\u001b[39;49m\u001b[38;5;241;43m.\u001b[39;49m\u001b[43mfunction_type\u001b[49m\u001b[38;5;241;43m.\u001b[39;49m\u001b[43mflat_outputs\u001b[49m\u001b[43m)\u001b[49m\u001b[43m,\u001b[49m\n\u001b[1;32m    255\u001b[0m \u001b[43m    \u001b[49m\u001b[43m)\u001b[49m\n\u001b[1;32m    256\u001b[0m   \u001b[38;5;28;01melse\u001b[39;00m:\n\u001b[1;32m    257\u001b[0m     outputs \u001b[38;5;241m=\u001b[39m make_call_op_in_graph(\n\u001b[1;32m    258\u001b[0m         \u001b[38;5;28mself\u001b[39m,\n\u001b[1;32m    259\u001b[0m         \u001b[38;5;28mlist\u001b[39m(args),\n\u001b[1;32m    260\u001b[0m         \u001b[38;5;28mself\u001b[39m\u001b[38;5;241m.\u001b[39m_bound_context\u001b[38;5;241m.\u001b[39mfunction_call_options\u001b[38;5;241m.\u001b[39mas_attrs(),\n\u001b[1;32m    261\u001b[0m     )\n",
            "File \u001b[0;32m~/miniconda3/lib/python3.11/site-packages/tensorflow/python/eager/context.py:1486\u001b[0m, in \u001b[0;36mContext.call_function\u001b[0;34m(self, name, tensor_inputs, num_outputs)\u001b[0m\n\u001b[1;32m   1484\u001b[0m cancellation_context \u001b[38;5;241m=\u001b[39m cancellation\u001b[38;5;241m.\u001b[39mcontext()\n\u001b[1;32m   1485\u001b[0m \u001b[38;5;28;01mif\u001b[39;00m cancellation_context \u001b[38;5;129;01mis\u001b[39;00m \u001b[38;5;28;01mNone\u001b[39;00m:\n\u001b[0;32m-> 1486\u001b[0m   outputs \u001b[38;5;241m=\u001b[39m \u001b[43mexecute\u001b[49m\u001b[38;5;241;43m.\u001b[39;49m\u001b[43mexecute\u001b[49m\u001b[43m(\u001b[49m\n\u001b[1;32m   1487\u001b[0m \u001b[43m      \u001b[49m\u001b[43mname\u001b[49m\u001b[38;5;241;43m.\u001b[39;49m\u001b[43mdecode\u001b[49m\u001b[43m(\u001b[49m\u001b[38;5;124;43m\"\u001b[39;49m\u001b[38;5;124;43mutf-8\u001b[39;49m\u001b[38;5;124;43m\"\u001b[39;49m\u001b[43m)\u001b[49m\u001b[43m,\u001b[49m\n\u001b[1;32m   1488\u001b[0m \u001b[43m      \u001b[49m\u001b[43mnum_outputs\u001b[49m\u001b[38;5;241;43m=\u001b[39;49m\u001b[43mnum_outputs\u001b[49m\u001b[43m,\u001b[49m\n\u001b[1;32m   1489\u001b[0m \u001b[43m      \u001b[49m\u001b[43minputs\u001b[49m\u001b[38;5;241;43m=\u001b[39;49m\u001b[43mtensor_inputs\u001b[49m\u001b[43m,\u001b[49m\n\u001b[1;32m   1490\u001b[0m \u001b[43m      \u001b[49m\u001b[43mattrs\u001b[49m\u001b[38;5;241;43m=\u001b[39;49m\u001b[43mattrs\u001b[49m\u001b[43m,\u001b[49m\n\u001b[1;32m   1491\u001b[0m \u001b[43m      \u001b[49m\u001b[43mctx\u001b[49m\u001b[38;5;241;43m=\u001b[39;49m\u001b[38;5;28;43mself\u001b[39;49m\u001b[43m,\u001b[49m\n\u001b[1;32m   1492\u001b[0m \u001b[43m  \u001b[49m\u001b[43m)\u001b[49m\n\u001b[1;32m   1493\u001b[0m \u001b[38;5;28;01melse\u001b[39;00m:\n\u001b[1;32m   1494\u001b[0m   outputs \u001b[38;5;241m=\u001b[39m execute\u001b[38;5;241m.\u001b[39mexecute_with_cancellation(\n\u001b[1;32m   1495\u001b[0m       name\u001b[38;5;241m.\u001b[39mdecode(\u001b[38;5;124m\"\u001b[39m\u001b[38;5;124mutf-8\u001b[39m\u001b[38;5;124m\"\u001b[39m),\n\u001b[1;32m   1496\u001b[0m       num_outputs\u001b[38;5;241m=\u001b[39mnum_outputs,\n\u001b[0;32m   (...)\u001b[0m\n\u001b[1;32m   1500\u001b[0m       cancellation_manager\u001b[38;5;241m=\u001b[39mcancellation_context,\n\u001b[1;32m   1501\u001b[0m   )\n",
            "File \u001b[0;32m~/miniconda3/lib/python3.11/site-packages/tensorflow/python/eager/execute.py:53\u001b[0m, in \u001b[0;36mquick_execute\u001b[0;34m(op_name, num_outputs, inputs, attrs, ctx, name)\u001b[0m\n\u001b[1;32m     51\u001b[0m \u001b[38;5;28;01mtry\u001b[39;00m:\n\u001b[1;32m     52\u001b[0m   ctx\u001b[38;5;241m.\u001b[39mensure_initialized()\n\u001b[0;32m---> 53\u001b[0m   tensors \u001b[38;5;241m=\u001b[39m \u001b[43mpywrap_tfe\u001b[49m\u001b[38;5;241;43m.\u001b[39;49m\u001b[43mTFE_Py_Execute\u001b[49m\u001b[43m(\u001b[49m\u001b[43mctx\u001b[49m\u001b[38;5;241;43m.\u001b[39;49m\u001b[43m_handle\u001b[49m\u001b[43m,\u001b[49m\u001b[43m \u001b[49m\u001b[43mdevice_name\u001b[49m\u001b[43m,\u001b[49m\u001b[43m \u001b[49m\u001b[43mop_name\u001b[49m\u001b[43m,\u001b[49m\n\u001b[1;32m     54\u001b[0m \u001b[43m                                      \u001b[49m\u001b[43minputs\u001b[49m\u001b[43m,\u001b[49m\u001b[43m \u001b[49m\u001b[43mattrs\u001b[49m\u001b[43m,\u001b[49m\u001b[43m \u001b[49m\u001b[43mnum_outputs\u001b[49m\u001b[43m)\u001b[49m\n\u001b[1;32m     55\u001b[0m \u001b[38;5;28;01mexcept\u001b[39;00m core\u001b[38;5;241m.\u001b[39m_NotOkStatusException \u001b[38;5;28;01mas\u001b[39;00m e:\n\u001b[1;32m     56\u001b[0m   \u001b[38;5;28;01mif\u001b[39;00m name \u001b[38;5;129;01mis\u001b[39;00m \u001b[38;5;129;01mnot\u001b[39;00m \u001b[38;5;28;01mNone\u001b[39;00m:\n",
            "\u001b[0;31mKeyboardInterrupt\u001b[0m: "
          ]
        },
        {
          "data": {
            "image/png": "[encoded data removed]",
            "text/plain": [
              "<Figure size 640x480 with 1 Axes>"
            ]
          },
          "metadata": {},
          "output_type": "display_data"
        }
      ],
      "source": [
        "### Define optimizer and training operation ###\n",
        "\n",
        "'''TODO: instantiate a new model for training using the `build_model`\n",
        "  function and the hyperparameters created above.'''\n",
        "model = build_model(vocab_size, params[\"embedding_dim\"], params[\"rnn_units\"], params[\"batch_size\"])\n",
        "\n",
        "\n",
        "'''TODO: instantiate an optimizer with its learning rate.\n",
        "  Checkout the tensorflow website for a list of supported optimizers.\n",
        "  https://www.tensorflow.org/api_docs/python/tf/keras/optimizers/\n",
        "  Try using the Adam optimizer to start.'''\n",
        "optimizer = tf.keras.optimizers.Adam(params[\"learning_rate\"])\n",
        "\n",
        "@tf.function\n",
        "def train_step(x, y):\n",
        "  # Use tf.GradientTape()\n",
        "  with tf.GradientTape() as tape:\n",
        "\n",
        "    '''TODO: feed the current input into the model and generate predictions'''\n",
        "    y_hat = model(x)\n",
        "\n",
        "    '''TODO: compute the loss!'''\n",
        "    loss = compute_loss(y, y_hat)\n",
        "\n",
        "  # Now, compute the gradients\n",
        "  '''TODO: complete the function call for gradient computation.\n",
        "      Remember that we want the gradient of the loss with respect all\n",
        "      of the model parameters.\n",
        "      HINT: use `model.trainable_variables` to get a list of all model\n",
        "      parameters.'''\n",
        "  \n",
        "  grads = tape.gradient(loss, model.trainable_variables)\n",
        "\n",
        "\n",
        "  # Apply the gradients to the optimizer so it can update the model accordingly\n",
        "  optimizer.apply_gradients(zip(grads, model.trainable_variables))\n",
        "  return loss\n",
        "\n",
        "##################\n",
        "# Begin training!#\n",
        "##################\n",
        "\n",
        "history = []\n",
        "plotter = mdl.util.PeriodicPlotter(sec=2, xlabel='Iterations', ylabel='Loss')\n",
        "experiment = create_experiment()\n",
        "\n",
        "if hasattr(tqdm, '_instances'): tqdm._instances.clear() # clear if it exists\n",
        "for iter in tqdm(range(params[\"num_training_iterations\"])):\n",
        "\n",
        "  # Grab a batch and propagate it through the network\n",
        "  x_batch, y_batch = get_batch(vectorized_songs, params[\"seq_length\"], params[\"batch_size\"])\n",
        "  loss = train_step(x_batch, y_batch)\n",
        "\n",
        "  # log the loss to the Comet interface! we will be able to track it there.\n",
        "  experiment.log_metric(\"loss\", loss.numpy().mean(), step=iter)\n",
        "  # Update the progress bar and also visualize within notebook\n",
        "  history.append(loss.numpy().mean())\n",
        "  plotter.plot(history)\n",
        "\n",
        "  # Update the model with the changed weights!\n",
        "  if iter % 100 == 0:\n",
        "    model.save_weights(checkpoint_prefix)\n",
        "\n",
        "# Save the trained model and the weights\n",
        "model.save_weights(checkpoint_prefix)\n",
        "experiment.flush()\n"
      ]
    },
    {
      "cell_type": "markdown",
      "metadata": {
        "id": "kKkD5M6eoSiN"
      },
      "source": [
        "## 2.6 Generate music using the RNN model\n",
        "\n",
        "Now, we can use our trained RNN model to generate some music! When generating music, we'll have to feed the model some sort of seed to get it started (because it can't predict anything without something to start with!).\n",
        "\n",
        "Once we have a generated seed, we can then iteratively predict each successive character (remember, we are using the ABC representation for our music) using our trained RNN. More specifically, recall that our RNN outputs a `softmax` over possible successive characters. For inference, we iteratively sample from these distributions, and then use our samples to encode a generated song in the ABC format.\n",
        "\n",
        "Then, all we have to do is write it to a file and listen!"
      ]
    },
    {
      "cell_type": "markdown",
      "metadata": {
        "id": "JIPcXllKjkdr"
      },
      "source": [
        "\n",
        "### Restore the latest checkpoint\n",
        "\n",
        "To keep this inference step simple, we will use a batch size of 1. Because of how the RNN state is passed from timestep to timestep, the model will only be able to accept a fixed batch size once it is built.\n",
        "\n",
        "To run the model with a different `batch_size`, we'll need to rebuild the model and restore the weights from the latest checkpoint, i.e., the weights after the last checkpoint during training:"
      ]
    },
    {
      "cell_type": "code",
      "execution_count": 104,
      "metadata": {
        "id": "LycQ-ot_jjyu"
      },
      "outputs": [
        {
          "name": "stdout",
          "output_type": "stream",
          "text": [
            "Model: \"sequential_12\"\n",
            "_________________________________________________________________\n",
            " Layer (type)                Output Shape              Param #   \n",
            "=================================================================\n",
            " embedding_13 (Embedding)    (1, None, 256)            21248     \n",
            "                                                                 \n",
            " lstm_13 (LSTM)              (1, None, 1024)           5246976   \n",
            "                                                                 \n",
            " dense_12 (Dense)            (1, None, 83)             85075     \n",
            "                                                                 \n",
            "=================================================================\n",
            "Total params: 5353299 (20.42 MB)\n",
            "Trainable params: 5353299 (20.42 MB)\n",
            "Non-trainable params: 0 (0.00 Byte)\n",
            "_________________________________________________________________\n"
          ]
        },
        {
          "name": "stderr",
          "output_type": "stream",
          "text": [
            "WARNING:urllib3.connectionpool:Retrying (Retry(total=2, connect=None, read=None, redirect=None, status=None)) after connection broken by 'RemoteDisconnected('Remote end closed connection without response')': /clientlib/status-report/update\n",
            "WARNING:urllib3.connectionpool:Retrying (Retry(total=2, connect=None, read=None, redirect=None, status=None)) after connection broken by 'RemoteDisconnected('Remote end closed connection without response')': /clientlib/status-report/update\n",
            "WARNING:urllib3.connectionpool:Retrying (Retry(total=2, connect=None, read=None, redirect=None, status=None)) after connection broken by 'ReadTimeoutError(\"HTTPSConnectionPool(host='www.comet.com', port=443): Read timed out. (read timeout=10)\")': /clientlib/batch/logger/experiment/metric\n"
          ]
        }
      ],
      "source": [
        "'''TODO: Rebuild the model using a batch_size=1'''\n",
        "model = build_model(vocab_size=vocab_size, embedding_dim=params[\"embedding_dim\"], rnn_units=params[\"rnn_units\"], batch_size=1)\n",
        "\n",
        "# Restore the model weights for the last checkpoint after training\n",
        "model.load_weights(tf.train.latest_checkpoint(checkpoint_dir))\n",
        "model.build(tf.TensorShape([1, None]))\n",
        "\n",
        "model.summary()"
      ]
    },
    {
      "cell_type": "markdown",
      "metadata": {
        "id": "I9b4V2C8N62l"
      },
      "source": [
        "Notice that we have fed in a fixed `batch_size` of 1 for inference."
      ]
    },
    {
      "cell_type": "markdown",
      "metadata": {
        "id": "DjGz1tDkzf-u"
      },
      "source": [
        "### The prediction procedure\n",
        "\n",
        "Now, we're ready to write the code to generate text in the ABC music format:\n",
        "\n",
        "* Initialize a \"seed\" start string and the RNN state, and set the number of characters we want to generate.\n",
        "\n",
        "* Use the start string and the RNN state to obtain the probability distribution over the next predicted character.\n",
        "\n",
        "* Sample from multinomial distribution to calculate the index of the predicted character. This predicted character is then used as the next input to the model.\n",
        "\n",
        "* At each time step, the updated RNN state is fed back into the model, so that it now has more context in making the next prediction. After predicting the next character, the updated RNN states are again fed back into the model, which is how it learns sequence dependencies in the data, as it gets more information from the previous predictions.\n",
        "\n",
        "![LSTM inference](https://raw.githubusercontent.com/aamini/introtodeeplearning/2019/lab1/img/lstm_inference.png)\n",
        "\n",
        "Complete and experiment with this code block (as well as some of the aspects of network definition and training!), and see how the model performs. How do songs generated after training with a small number of epochs compare to those generated after a longer duration of training?"
      ]
    },
    {
      "cell_type": "code",
      "execution_count": 105,
      "metadata": {
        "id": "WvuwZBX5Ogfd"
      },
      "outputs": [],
      "source": [
        "### Prediction of a generated song ###\n",
        "\n",
        "def generate_text(model, start_string, generation_length=1000):\n",
        "  # Evaluation step (generating ABC text using the learned RNN model)\n",
        "\n",
        "  '''TODO: convert the start string to numbers (vectorize)'''\n",
        "  input_eval = [char2idx[s] for s in start_string]\n",
        "  input_eval = tf.expand_dims(input_eval, 0)\n",
        "\n",
        "  # Empty string to store our results\n",
        "  text_generated = []\n",
        "\n",
        "  # Here batch size == 1\n",
        "  model.reset_states()\n",
        "  tqdm._instances.clear()\n",
        "\n",
        "  for i in tqdm(range(generation_length)):\n",
        "      '''TODO: evaluate the inputs and generate the next character predictions'''\n",
        "      predictions = model(input_eval)\n",
        "\n",
        "      # Remove the batch dimension\n",
        "      predictions = tf.squeeze(predictions, 0)\n",
        "\n",
        "      '''TODO: use a multinomial distribution to sample'''\n",
        "      predicted_id = tf.random.categorical(predictions, num_samples=1)[-1,0].numpy()\n",
        "\n",
        "      # Pass the prediction along with the previous hidden state\n",
        "      #   as the next inputs to the model\n",
        "      input_eval = tf.expand_dims([predicted_id], 0)\n",
        "\n",
        "      '''TODO: add the predicted character to the generated text!'''\n",
        "      # Hint: consider what format the prediction is in vs. the output\n",
        "      text_generated.append(idx2char[predicted_id])\n",
        "\n",
        "  return (start_string + ''.join(text_generated))"
      ]
    },
    {
      "cell_type": "code",
      "execution_count": 106,
      "metadata": {
        "id": "ktovv0RFhrkn"
      },
      "outputs": [
        {
          "name": "stderr",
          "output_type": "stream",
          "text": [
            "100%|██████████| 1000/1000 [00:05<00:00, 181.94it/s]\n"
          ]
        }
      ],
      "source": [
        "'''TODO: Use the model and the function defined above to generate ABC format text of length 1000!\n",
        "    As you may notice, ABC files start with \"X\" - this may be a good start string.'''\n",
        "generated_text = generate_text(model, start_string=\"X\", generation_length=1000)"
      ]
    },
    {
      "cell_type": "markdown",
      "metadata": {
        "id": "AM2Uma_-yVIq"
      },
      "source": [
        "### Play back the generated music!\n",
        "\n",
        "We can now call a function to convert the ABC format text to an audio file, and then play that back to check out our generated music! Try training longer if the resulting song is not long enough, or re-generating the song!\n",
        "\n",
        "We will save the song to Comet -- you will be able to find your songs under the `Audio` and `Assets & Artificats` pages in your Comet interface for the project. Note the [`log_asset()`](https://www.comet.com/docs/v2/api-and-sdk/python-sdk/reference/Experiment/#experimentlog_asset) documentation, where you will see how to specify file names and other parameters for saving your assets."
      ]
    },
    {
      "cell_type": "code",
      "execution_count": 107,
      "metadata": {
        "id": "LrOtG64bfLto"
      },
      "outputs": [
        {
          "name": "stdout",
          "output_type": "stream",
          "text": [
            "Found 4 songs in text\n"
          ]
        },
        {
          "name": "stderr",
          "output_type": "stream",
          "text": [
            "/Users/lucas/miniconda3/lib/python3.11/site-packages/mitdeeplearning/bin/abc2wav: line 5: abc2midi: command not found\n",
            "/Users/lucas/miniconda3/lib/python3.11/site-packages/mitdeeplearning/bin/abc2wav: line 6: timidity: command not found\n",
            "rm: tmp.mid: No such file or directory\n",
            "/Users/lucas/miniconda3/lib/python3.11/site-packages/mitdeeplearning/bin/abc2wav: line 5: abc2midi: command not found\n",
            "/Users/lucas/miniconda3/lib/python3.11/site-packages/mitdeeplearning/bin/abc2wav: line 6: timidity: command not found\n",
            "rm: tmp.mid: No such file or directory\n",
            "/Users/lucas/miniconda3/lib/python3.11/site-packages/mitdeeplearning/bin/abc2wav: line 5: abc2midi: command not found\n",
            "/Users/lucas/miniconda3/lib/python3.11/site-packages/mitdeeplearning/bin/abc2wav: line 6: timidity: command not found\n",
            "rm: tmp.mid: No such file or directory\n",
            "/Users/lucas/miniconda3/lib/python3.11/site-packages/mitdeeplearning/bin/abc2wav: line 5: abc2midi: command not found\n",
            "/Users/lucas/miniconda3/lib/python3.11/site-packages/mitdeeplearning/bin/abc2wav: line 6: timidity: command not found\n",
            "rm: tmp.mid: No such file or directory\n"
          ]
        }
      ],
      "source": [
        "### Play back generated songs ###\n",
        "\n",
        "generated_songs = mdl.lab1.extract_song_snippet(generated_text)\n",
        "\n",
        "for i, song in enumerate(generated_songs):\n",
        "  # Synthesize the waveform from a song\n",
        "  waveform = mdl.lab1.play_song(song)\n",
        "\n",
        "  # If its a valid song (correct syntax), lets play it!\n",
        "  if waveform:\n",
        "    print(\"Generated song\", i)\n",
        "    ipythondisplay.display(waveform)\n",
        "\n",
        "    numeric_data = np.frombuffer(waveform.data, dtype=np.int16)\n",
        "    wav_file_path = f\"output_{i}.wav\"\n",
        "    write(wav_file_path, 88200, numeric_data)\n",
        "\n",
        "    # save your song to the Comet interface -- you can access it there\n",
        "    experiment.log_asset(wav_file_path)"
      ]
    },
    {
      "cell_type": "code",
      "execution_count": 108,
      "metadata": {
        "id": "4353qSV76gnJ"
      },
      "outputs": [
        {
          "name": "stderr",
          "output_type": "stream",
          "text": [
            "\u001b[1;38;5;39mCOMET INFO:\u001b[0m ---------------------------------------------------------------------------------------\n",
            "\u001b[1;38;5;39mCOMET INFO:\u001b[0m Comet.ml Experiment Summary\n",
            "\u001b[1;38;5;39mCOMET INFO:\u001b[0m ---------------------------------------------------------------------------------------\n",
            "\u001b[1;38;5;39mCOMET INFO:\u001b[0m   Data:\n",
            "\u001b[1;38;5;39mCOMET INFO:\u001b[0m     display_summary_level : 1\n",
            "\u001b[1;38;5;39mCOMET INFO:\u001b[0m     url                   : https://www.comet.com/lucascuibu/6s191-lab1-part2/85a0806258e14b3d85352a082742a9f6\n",
            "\u001b[1;38;5;39mCOMET INFO:\u001b[0m   Metrics [count] (min, max):\n",
            "\u001b[1;38;5;39mCOMET INFO:\u001b[0m     loss [638] : (1.0341569185256958, 6.013942241668701)\n",
            "\u001b[1;38;5;39mCOMET INFO:\u001b[0m   Parameters:\n",
            "\u001b[1;38;5;39mCOMET INFO:\u001b[0m     batch_size              : 8\n",
            "\u001b[1;38;5;39mCOMET INFO:\u001b[0m     embedding_dim           : 256\n",
            "\u001b[1;38;5;39mCOMET INFO:\u001b[0m     learning_rate           : 0.005\n",
            "\u001b[1;38;5;39mCOMET INFO:\u001b[0m     num_training_iterations : 3000\n",
            "\u001b[1;38;5;39mCOMET INFO:\u001b[0m     rnn_units               : 1024\n",
            "\u001b[1;38;5;39mCOMET INFO:\u001b[0m     seq_length              : 100\n",
            "\u001b[1;38;5;39mCOMET INFO:\u001b[0m   Uploads:\n",
            "\u001b[1;38;5;39mCOMET INFO:\u001b[0m     conda-environment-definition : 1\n",
            "\u001b[1;38;5;39mCOMET INFO:\u001b[0m     conda-info                   : 1\n",
            "\u001b[1;38;5;39mCOMET INFO:\u001b[0m     conda-specification          : 1\n",
            "\u001b[1;38;5;39mCOMET INFO:\u001b[0m     environment details          : 1\n",
            "\u001b[1;38;5;39mCOMET INFO:\u001b[0m     filename                     : 1\n",
            "\u001b[1;38;5;39mCOMET INFO:\u001b[0m     git metadata                 : 1\n",
            "\u001b[1;38;5;39mCOMET INFO:\u001b[0m     git-patch (uncompressed)     : 1 (113.85 KB)\n",
            "\u001b[1;38;5;39mCOMET INFO:\u001b[0m     installed packages           : 1\n",
            "\u001b[1;38;5;39mCOMET INFO:\u001b[0m     notebook                     : 1\n",
            "\u001b[1;38;5;39mCOMET INFO:\u001b[0m     source_code                  : 1\n",
            "\u001b[1;38;5;39mCOMET INFO:\u001b[0m \n"
          ]
        }
      ],
      "source": [
        "# when done, end the comet experiment\n",
        "experiment.end()"
      ]
    },
    {
      "cell_type": "markdown",
      "metadata": {
        "id": "HgVvcrYmSKGG"
      },
      "source": [
        "## 2.7 Experiment and **get awarded for the best songs**!\n",
        "\n",
        "Congrats on making your first sequence model in TensorFlow! It's a pretty big accomplishment, and hopefully you have some sweet tunes to show for it.\n",
        "\n",
        "Consider how you may improve your model and what seems to be most important in terms of performance. Here are some ideas to get you started:\n",
        "\n",
        "*  How does the number of training epochs affect the performance?\n",
        "*  What if you alter or augment the dataset?\n",
        "*  Does the choice of start string significantly affect the result?\n",
        "\n",
        "Try to optimize your model and submit your best song! **Participants will be eligible for prizes during the January 2024 offering. To enter the competition, you must upload the following to [this submission link](https://www.dropbox.com/request/TPEKFjg0DW739vuq7P8p):**\n",
        "\n",
        "* a recording of your song;\n",
        "* iPython notebook with the code you used to generate the song;\n",
        "* a description and/or diagram of the architecture and hyperparameters you used -- if there are any additional or interesting modifications you made to the template code, please include these in your description.\n",
        "\n",
        "**Name your file in the following format: ``[FirstName]_[LastName]_RNNMusic``, followed by the file format (.zip, .mp4, .ipynb, .pdf, etc). ZIP files of all three components are preferred over individual files. If you submit individual files, you must name the individual files according to the above nomenclature.**\n",
        "\n",
        "You can also tweet us at [@MITDeepLearning](https://twitter.com/MITDeepLearning) a copy of the song (but this will not enter you into the competition)! See this example song generated by a previous student (credit Ana Heart): <a href=\"https://twitter.com/AnaWhatever16/status/1263092914680410112?s=20\">song from May 20, 2020.</a>\n",
        "<script async src=\"https://platform.twitter.com/widgets.js\" charset=\"utf-8\"></script>\n",
        "\n",
        "Have fun and happy listening!\n",
        "\n",
        "![Let's Dance!](http://33.media.tumblr.com/3d223954ad0a77f4e98a7b87136aa395/tumblr_nlct5lFVbF1qhu7oio1_500.gif)\n"
      ]
    }
  ],
  "metadata": {
    "accelerator": "GPU",
    "colab": {
      "collapsed_sections": [
        "uoJsVjtCMunI"
      ],
      "provenance": []
    },
    "kernelspec": {
      "display_name": "Python 3",
      "name": "python3"
    },
    "language_info": {
      "codemirror_mode": {
        "name": "ipython",
        "version": 3
      },
      "file_extension": ".py",
      "mimetype": "text/x-python",
      "name": "python",
      "nbconvert_exporter": "python",
      "pygments_lexer": "ipython3",
      "version": "3.11.4"
    }
  },
  "nbformat": 4,
  "nbformat_minor": 0
}
